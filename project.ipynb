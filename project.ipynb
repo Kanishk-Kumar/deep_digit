{
 "cells": [
  {
   "cell_type": "code",
   "execution_count": 3,
   "id": "e4c30b5f-7b96-474f-8265-dcd340df155a",
   "metadata": {},
   "outputs": [],
   "source": [
    "from tensorflow.keras.datasets import mnist\n",
    "from tensorflow.keras.models import Sequential\n",
    "from tensorflow.keras.layers import Dense, Dropout, Activation, Flatten\n",
    "from tensorflow.keras.layers import Conv2D\n",
    "from tensorflow.keras.layers import MaxPooling2D\n",
    "from tensorflow.keras.utils import to_categorical\n",
    "from tensorflow.keras.optimizers import SGD\n",
    "from tensorflow.keras import backend as K\n",
    "import matplotlib.pyplot as plt\n",
    "%matplotlib inline"
   ]
  },
  {
   "cell_type": "markdown",
   "id": "8f82837f-07c1-4151-a265-b930cf77a000",
   "metadata": {
    "tags": []
   },
   "source": [
    "# Preprocessing"
   ]
  },
  {
   "cell_type": "markdown",
   "id": "47d40f9a-4a04-4e37-990b-b68a74036912",
   "metadata": {
    "tags": []
   },
   "source": [
    "When dealing with images & convolutions, it is paramount to handle `image_data_format` properly"
   ]
  },
  {
   "cell_type": "code",
   "execution_count": 4,
   "id": "d1ec2cca-f2c3-4e91-8e28-77208f2e3355",
   "metadata": {},
   "outputs": [],
   "source": [
    "img_rows, img_cols = 28, 28\n",
    "\n",
    "if K.image_data_format() == 'channels_first':\n",
    "    shape_ord = (1, img_rows, img_cols)\n",
    "else:  # channel_last\n",
    "    shape_ord = (img_rows, img_cols, 1)"
   ]
  },
  {
   "cell_type": "markdown",
   "id": "30075699-fca8-429a-b05a-6892561f3173",
   "metadata": {},
   "source": [
    "We'll preprocess by scaling images pixels to be between 0 and 1."
   ]
  },
  {
   "cell_type": "code",
   "execution_count": 5,
   "id": "6984f105-8bfa-45bb-b897-ef74bbd37114",
   "metadata": {},
   "outputs": [],
   "source": [
    "(x_train, y_train), (x_test, y_test) = mnist.load_data()\n",
    "x_train = x_train.astype('float32') / 255.\n",
    "x_test = x_test.astype('float32') / 255."
   ]
  },
  {
   "cell_type": "code",
   "execution_count": 6,
   "id": "ea18d8fc-d63e-427d-a143-4b6b6a2cc551",
   "metadata": {},
   "outputs": [
    {
     "name": "stdout",
     "output_type": "stream",
     "text": [
      "(60000, 28, 28) (60000,) (10000, 28, 28) (10000,)\n"
     ]
    }
   ],
   "source": [
    "print(x_train.shape, y_train.shape,\n",
    "      x_test.shape, y_test.shape)"
   ]
  },
  {
   "cell_type": "code",
   "execution_count": 7,
   "id": "63a55947-675a-4387-9781-6ad047e4964a",
   "metadata": {},
   "outputs": [],
   "source": [
    "# Converting the classes to its binary categorical form.\n",
    "nb_classes = 10\n",
    "y_train = to_categorical(y_train, nb_classes)\n",
    "y_test = to_categorical(y_test, nb_classes)"
   ]
  },
  {
   "cell_type": "code",
   "execution_count": 8,
   "id": "93d13107-8582-48a7-acef-fc9705a5dae5",
   "metadata": {},
   "outputs": [
    {
     "name": "stdout",
     "output_type": "stream",
     "text": [
      "(60000, 28, 28) (60000, 10) (10000, 28, 28) (10000, 10)\n"
     ]
    }
   ],
   "source": [
    "print(x_train.shape, y_train.shape,\n",
    "      x_test.shape, y_test.shape)"
   ]
  },
  {
   "cell_type": "code",
   "execution_count": 15,
   "id": "6279c3ae-48f2-4b63-a48f-4e53cbd2e83d",
   "metadata": {},
   "outputs": [
    {
     "data": {
      "image/png": "[encoded data removed]",
      "text/plain": [
       "<Figure size 432x288 with 1 Axes>"
      ]
     },
     "metadata": {
      "needs_background": "light"
     },
     "output_type": "display_data"
    },
    {
     "data": {
      "image/png": "[encoded data removed]",
      "text/plain": [
       "<Figure size 432x288 with 1 Axes>"
      ]
     },
     "metadata": {
      "needs_background": "light"
     },
     "output_type": "display_data"
    },
    {
     "data": {
      "image/png": "[encoded data removed]",
      "text/plain": [
       "<Figure size 432x288 with 1 Axes>"
      ]
     },
     "metadata": {
      "needs_background": "light"
     },
     "output_type": "display_data"
    },
    {
     "data": {
      "image/png": "[encoded data removed]",
      "text/plain": [
       "<Figure size 432x288 with 1 Axes>"
      ]
     },
     "metadata": {
      "needs_background": "light"
     },
     "output_type": "display_data"
    }
   ],
   "source": [
    "for i in [3,7,1,4]:  \n",
    "    plt.subplot(330 + 1 + i)\n",
    "    plt.imshow(x_train[i], cmap=plt.get_cmap('gray'))\n",
    "    plt.show()"
   ]
  },
  {
   "cell_type": "markdown",
   "id": "d05e112c-327c-4c02-b7ad-1b6c888e7890",
   "metadata": {
    "slideshow": {
     "slide_type": "slide"
    },
    "tags": []
   },
   "source": [
    "# A Simple CNN"
   ]
  },
  {
   "cell_type": "code",
   "execution_count": 8,
   "id": "23850834-8728-4eb7-82c5-ccdf7b53491a",
   "metadata": {
    "slideshow": {
     "slide_type": "subslide"
    }
   },
   "outputs": [],
   "source": [
    "# initializing the values for the convolution neural network\n",
    "\n",
    "nb_epoch = 100\n",
    "\n",
    "batch_size = 64 \n",
    "\n",
    "nb_filters = 32 # number of convolutional filters to use\n",
    "\n",
    "nb_pool = 2 # size of pooling area for max pooling\n",
    "\n",
    "nb_conv = 3 # convolution kernel size\n",
    "\n",
    "sgd = SGD()"
   ]
  },
  {
   "cell_type": "markdown",
   "id": "04fee15d-03b6-4531-a5f0-46e0240a9c9e",
   "metadata": {
    "slideshow": {
     "slide_type": "subslide"
    },
    "tags": []
   },
   "source": [
    "#### Step 1: Model Definition"
   ]
  },
  {
   "cell_type": "code",
   "execution_count": 9,
   "id": "041d564d-c452-4de1-9458-f78b3557baad",
   "metadata": {},
   "outputs": [],
   "source": [
    "model = Sequential()\n",
    "# the very first layer must always specify the input_shape\n",
    "model.add(Conv2D(nb_filters, (nb_conv, nb_conv),\n",
    "                 padding='valid', input_shape=shape_ord))  \n",
    "model.add(Activation('sigmoid'))\n",
    "\n",
    "model.add(Flatten())\n",
    "model.add(Dense(nb_classes))\n",
    "model.add(Activation('sigmoid'))"
   ]
  },
  {
   "cell_type": "markdown",
   "id": "cc5a3f66-6201-452d-8a8b-317ac3ee32e1",
   "metadata": {
    "slideshow": {
     "slide_type": "subslide"
    }
   },
   "source": [
    "#### Step 2: Compile"
   ]
  },
  {
   "cell_type": "code",
   "execution_count": 10,
   "id": "b2b0f3e9-e882-4395-8bc0-84cf6983e641",
   "metadata": {},
   "outputs": [],
   "source": [
    "model.compile(loss='categorical_crossentropy',\n",
    "              optimizer=sgd,\n",
    "              metrics=['accuracy'])"
   ]
  },
  {
   "cell_type": "markdown",
   "id": "467d14e6-9c6e-40ca-8492-02796700afb2",
   "metadata": {
    "slideshow": {
     "slide_type": "subslide"
    }
   },
   "source": [
    "#### Step 3: Fit"
   ]
  },
  {
   "cell_type": "code",
   "execution_count": 11,
   "id": "30ceac76-0d31-4c62-bb96-41a03905b3f4",
   "metadata": {
    "collapsed": true,
    "jupyter": {
     "outputs_hidden": true
    },
    "tags": []
   },
   "outputs": [
    {
     "name": "stdout",
     "output_type": "stream",
     "text": [
      "Epoch 1/100\n",
      "938/938 [==============================] - 8s 6ms/step - loss: 3.6653 - accuracy: 0.5310 - val_loss: 0.6634 - val_accuracy: 0.7661\n",
      "Epoch 2/100\n",
      "938/938 [==============================] - 5s 5ms/step - loss: 0.4787 - accuracy: 0.8540 - val_loss: 0.4330 - val_accuracy: 0.8670\n",
      "Epoch 3/100\n",
      "938/938 [==============================] - 5s 5ms/step - loss: 0.3964 - accuracy: 0.8806 - val_loss: 0.3614 - val_accuracy: 0.8932\n",
      "Epoch 4/100\n",
      "938/938 [==============================] - 5s 6ms/step - loss: 0.3681 - accuracy: 0.8893 - val_loss: 0.3965 - val_accuracy: 0.8770\n",
      "Epoch 5/100\n",
      "938/938 [==============================] - 6s 6ms/step - loss: 0.3514 - accuracy: 0.8950 - val_loss: 0.3378 - val_accuracy: 0.9011\n",
      "Epoch 6/100\n",
      "938/938 [==============================] - 6s 6ms/step - loss: 0.3407 - accuracy: 0.8991 - val_loss: 0.3277 - val_accuracy: 0.9047\n",
      "Epoch 7/100\n",
      "938/938 [==============================] - 6s 6ms/step - loss: 0.3323 - accuracy: 0.9008 - val_loss: 0.3420 - val_accuracy: 0.9004\n",
      "Epoch 8/100\n",
      "938/938 [==============================] - 7s 7ms/step - loss: 0.3253 - accuracy: 0.9030 - val_loss: 0.3162 - val_accuracy: 0.9081\n",
      "Epoch 9/100\n",
      "938/938 [==============================] - 6s 6ms/step - loss: 0.3181 - accuracy: 0.9055 - val_loss: 0.3296 - val_accuracy: 0.8961\n",
      "Epoch 10/100\n",
      "938/938 [==============================] - 6s 6ms/step - loss: 0.3138 - accuracy: 0.9073 - val_loss: 0.2835 - val_accuracy: 0.9186\n",
      "Epoch 11/100\n",
      "938/938 [==============================] - 6s 6ms/step - loss: 0.3093 - accuracy: 0.9100 - val_loss: 0.3019 - val_accuracy: 0.9083\n",
      "Epoch 12/100\n",
      "938/938 [==============================] - 6s 6ms/step - loss: 0.3056 - accuracy: 0.9099 - val_loss: 0.3006 - val_accuracy: 0.9145\n",
      "Epoch 13/100\n",
      "938/938 [==============================] - 7s 7ms/step - loss: 0.3027 - accuracy: 0.9107 - val_loss: 0.3358 - val_accuracy: 0.9004\n",
      "Epoch 14/100\n",
      "938/938 [==============================] - 6s 7ms/step - loss: 0.2995 - accuracy: 0.9117 - val_loss: 0.2880 - val_accuracy: 0.9161\n",
      "Epoch 15/100\n",
      "938/938 [==============================] - 6s 7ms/step - loss: 0.2951 - accuracy: 0.9137 - val_loss: 0.2818 - val_accuracy: 0.9185\n",
      "Epoch 16/100\n",
      "938/938 [==============================] - 7s 8ms/step - loss: 0.2936 - accuracy: 0.9150 - val_loss: 0.3685 - val_accuracy: 0.8922\n",
      "Epoch 17/100\n",
      "938/938 [==============================] - 7s 7ms/step - loss: 0.2907 - accuracy: 0.9148 - val_loss: 0.2824 - val_accuracy: 0.9172\n",
      "Epoch 18/100\n",
      "938/938 [==============================] - 6s 6ms/step - loss: 0.2892 - accuracy: 0.9152 - val_loss: 0.3002 - val_accuracy: 0.9125\n",
      "Epoch 19/100\n",
      "938/938 [==============================] - 6s 6ms/step - loss: 0.2863 - accuracy: 0.9169 - val_loss: 0.2777 - val_accuracy: 0.9204\n",
      "Epoch 20/100\n",
      "938/938 [==============================] - 7s 7ms/step - loss: 0.2836 - accuracy: 0.9178 - val_loss: 0.2647 - val_accuracy: 0.9252\n",
      "Epoch 21/100\n",
      "938/938 [==============================] - 7s 7ms/step - loss: 0.2830 - accuracy: 0.9172 - val_loss: 0.2843 - val_accuracy: 0.9200\n",
      "Epoch 22/100\n",
      "938/938 [==============================] - 7s 7ms/step - loss: 0.2800 - accuracy: 0.9179 - val_loss: 0.2873 - val_accuracy: 0.9158\n",
      "Epoch 23/100\n",
      "938/938 [==============================] - 7s 7ms/step - loss: 0.2792 - accuracy: 0.9191 - val_loss: 0.2712 - val_accuracy: 0.9188\n",
      "Epoch 24/100\n",
      "938/938 [==============================] - 6s 7ms/step - loss: 0.2772 - accuracy: 0.9192 - val_loss: 0.2669 - val_accuracy: 0.9244\n",
      "Epoch 25/100\n",
      "938/938 [==============================] - 7s 7ms/step - loss: 0.2753 - accuracy: 0.9200 - val_loss: 0.2802 - val_accuracy: 0.9178\n",
      "Epoch 26/100\n",
      "938/938 [==============================] - 7s 7ms/step - loss: 0.2724 - accuracy: 0.9209 - val_loss: 0.2605 - val_accuracy: 0.9257\n",
      "Epoch 27/100\n",
      "938/938 [==============================] - 7s 7ms/step - loss: 0.2710 - accuracy: 0.9215 - val_loss: 0.2755 - val_accuracy: 0.9227\n",
      "Epoch 28/100\n",
      "938/938 [==============================] - 6s 6ms/step - loss: 0.2688 - accuracy: 0.9231 - val_loss: 0.2626 - val_accuracy: 0.9271\n",
      "Epoch 29/100\n",
      "938/938 [==============================] - 6s 7ms/step - loss: 0.2675 - accuracy: 0.9225 - val_loss: 0.2634 - val_accuracy: 0.9260\n",
      "Epoch 30/100\n",
      "938/938 [==============================] - 6s 7ms/step - loss: 0.2653 - accuracy: 0.9236 - val_loss: 0.2858 - val_accuracy: 0.9153\n",
      "Epoch 31/100\n",
      "938/938 [==============================] - 6s 7ms/step - loss: 0.2636 - accuracy: 0.9240 - val_loss: 0.2915 - val_accuracy: 0.9184\n",
      "Epoch 32/100\n",
      "938/938 [==============================] - 6s 7ms/step - loss: 0.2628 - accuracy: 0.9248 - val_loss: 0.2629 - val_accuracy: 0.9266\n",
      "Epoch 33/100\n",
      "938/938 [==============================] - 6s 7ms/step - loss: 0.2610 - accuracy: 0.9240 - val_loss: 0.2613 - val_accuracy: 0.9251\n",
      "Epoch 34/100\n",
      "938/938 [==============================] - 6s 7ms/step - loss: 0.2588 - accuracy: 0.9248 - val_loss: 0.2740 - val_accuracy: 0.9187\n",
      "Epoch 35/100\n",
      "938/938 [==============================] - 7s 8ms/step - loss: 0.2589 - accuracy: 0.9247 - val_loss: 0.2542 - val_accuracy: 0.9276\n",
      "Epoch 36/100\n",
      "938/938 [==============================] - 7s 7ms/step - loss: 0.2565 - accuracy: 0.9263 - val_loss: 0.2644 - val_accuracy: 0.9212\n",
      "Epoch 37/100\n",
      "938/938 [==============================] - 7s 7ms/step - loss: 0.2550 - accuracy: 0.9269 - val_loss: 0.2546 - val_accuracy: 0.9262\n",
      "Epoch 38/100\n",
      "938/938 [==============================] - 7s 7ms/step - loss: 0.2534 - accuracy: 0.9276 - val_loss: 0.2518 - val_accuracy: 0.9288\n",
      "Epoch 39/100\n",
      "938/938 [==============================] - 6s 7ms/step - loss: 0.2517 - accuracy: 0.9276 - val_loss: 0.2722 - val_accuracy: 0.9161\n",
      "Epoch 40/100\n",
      "938/938 [==============================] - 6s 7ms/step - loss: 0.2510 - accuracy: 0.9276 - val_loss: 0.2553 - val_accuracy: 0.9280\n",
      "Epoch 41/100\n",
      "938/938 [==============================] - 7s 8ms/step - loss: 0.2494 - accuracy: 0.9279 - val_loss: 0.2586 - val_accuracy: 0.9243\n",
      "Epoch 42/100\n",
      "938/938 [==============================] - 7s 8ms/step - loss: 0.2471 - accuracy: 0.9293 - val_loss: 0.2470 - val_accuracy: 0.9300\n",
      "Epoch 43/100\n",
      "938/938 [==============================] - 7s 8ms/step - loss: 0.2463 - accuracy: 0.9296 - val_loss: 0.2425 - val_accuracy: 0.9310\n",
      "Epoch 44/100\n",
      "938/938 [==============================] - 7s 7ms/step - loss: 0.2452 - accuracy: 0.9293 - val_loss: 0.2493 - val_accuracy: 0.9249\n",
      "Epoch 45/100\n",
      "938/938 [==============================] - 7s 8ms/step - loss: 0.2434 - accuracy: 0.9309 - val_loss: 0.2389 - val_accuracy: 0.9312\n",
      "Epoch 46/100\n",
      "938/938 [==============================] - 7s 7ms/step - loss: 0.2412 - accuracy: 0.9303 - val_loss: 0.2429 - val_accuracy: 0.9306\n",
      "Epoch 47/100\n",
      "938/938 [==============================] - 7s 7ms/step - loss: 0.2409 - accuracy: 0.9304 - val_loss: 0.2403 - val_accuracy: 0.9347\n",
      "Epoch 48/100\n",
      "938/938 [==============================] - 8s 8ms/step - loss: 0.2391 - accuracy: 0.9315 - val_loss: 0.2367 - val_accuracy: 0.9321\n",
      "Epoch 49/100\n",
      "938/938 [==============================] - 7s 7ms/step - loss: 0.2382 - accuracy: 0.9324 - val_loss: 0.2661 - val_accuracy: 0.9208\n",
      "Epoch 50/100\n",
      "938/938 [==============================] - 7s 7ms/step - loss: 0.2371 - accuracy: 0.9316 - val_loss: 0.2664 - val_accuracy: 0.9224\n",
      "Epoch 51/100\n",
      "938/938 [==============================] - 7s 8ms/step - loss: 0.2356 - accuracy: 0.9334 - val_loss: 0.2464 - val_accuracy: 0.9311\n",
      "Epoch 52/100\n",
      "938/938 [==============================] - 6s 6ms/step - loss: 0.2343 - accuracy: 0.9328 - val_loss: 0.2343 - val_accuracy: 0.9330\n",
      "Epoch 53/100\n",
      "938/938 [==============================] - 7s 7ms/step - loss: 0.2324 - accuracy: 0.9336 - val_loss: 0.2376 - val_accuracy: 0.9307\n",
      "Epoch 54/100\n",
      "938/938 [==============================] - 7s 8ms/step - loss: 0.2317 - accuracy: 0.9340 - val_loss: 0.2416 - val_accuracy: 0.9320\n",
      "Epoch 55/100\n",
      "938/938 [==============================] - 8s 8ms/step - loss: 0.2298 - accuracy: 0.9348 - val_loss: 0.2308 - val_accuracy: 0.9347\n",
      "Epoch 56/100\n",
      "938/938 [==============================] - 6s 6ms/step - loss: 0.2293 - accuracy: 0.9348 - val_loss: 0.2278 - val_accuracy: 0.9355\n",
      "Epoch 57/100\n",
      "938/938 [==============================] - 6s 7ms/step - loss: 0.2279 - accuracy: 0.9347 - val_loss: 0.2340 - val_accuracy: 0.9329\n",
      "Epoch 58/100\n",
      "938/938 [==============================] - 7s 7ms/step - loss: 0.2271 - accuracy: 0.9350 - val_loss: 0.2569 - val_accuracy: 0.9291\n",
      "Epoch 59/100\n",
      "938/938 [==============================] - 7s 7ms/step - loss: 0.2262 - accuracy: 0.9352 - val_loss: 0.2325 - val_accuracy: 0.9350\n",
      "Epoch 60/100\n",
      "938/938 [==============================] - 7s 7ms/step - loss: 0.2242 - accuracy: 0.9358 - val_loss: 0.2280 - val_accuracy: 0.9358\n",
      "Epoch 61/100\n",
      "938/938 [==============================] - 6s 7ms/step - loss: 0.2230 - accuracy: 0.9363 - val_loss: 0.2484 - val_accuracy: 0.9287\n",
      "Epoch 62/100\n",
      "938/938 [==============================] - 7s 8ms/step - loss: 0.2219 - accuracy: 0.9362 - val_loss: 0.2241 - val_accuracy: 0.9371\n",
      "Epoch 63/100\n",
      "938/938 [==============================] - 7s 7ms/step - loss: 0.2205 - accuracy: 0.9370 - val_loss: 0.2267 - val_accuracy: 0.9362\n",
      "Epoch 64/100\n",
      "938/938 [==============================] - 6s 6ms/step - loss: 0.2188 - accuracy: 0.9387 - val_loss: 0.2218 - val_accuracy: 0.9375\n",
      "Epoch 65/100\n",
      "938/938 [==============================] - 6s 7ms/step - loss: 0.2181 - accuracy: 0.9378 - val_loss: 0.2213 - val_accuracy: 0.9365\n",
      "Epoch 66/100\n",
      "938/938 [==============================] - 7s 8ms/step - loss: 0.2171 - accuracy: 0.9394 - val_loss: 0.2280 - val_accuracy: 0.9343\n",
      "Epoch 67/100\n",
      "938/938 [==============================] - 6s 7ms/step - loss: 0.2155 - accuracy: 0.9390 - val_loss: 0.2177 - val_accuracy: 0.9405\n",
      "Epoch 68/100\n",
      "938/938 [==============================] - 6s 7ms/step - loss: 0.2148 - accuracy: 0.9396 - val_loss: 0.2392 - val_accuracy: 0.9309\n",
      "Epoch 69/100\n",
      "938/938 [==============================] - 6s 6ms/step - loss: 0.2133 - accuracy: 0.9393 - val_loss: 0.2185 - val_accuracy: 0.9411\n",
      "Epoch 70/100\n",
      "938/938 [==============================] - 6s 7ms/step - loss: 0.2128 - accuracy: 0.9400 - val_loss: 0.2139 - val_accuracy: 0.9397\n",
      "Epoch 71/100\n",
      "938/938 [==============================] - 6s 7ms/step - loss: 0.2116 - accuracy: 0.9401 - val_loss: 0.2624 - val_accuracy: 0.9197\n",
      "Epoch 72/100\n",
      "938/938 [==============================] - 6s 7ms/step - loss: 0.2106 - accuracy: 0.9404 - val_loss: 0.2188 - val_accuracy: 0.9392\n",
      "Epoch 73/100\n",
      "938/938 [==============================] - 6s 7ms/step - loss: 0.2082 - accuracy: 0.9411 - val_loss: 0.2211 - val_accuracy: 0.9399\n",
      "Epoch 74/100\n",
      "938/938 [==============================] - 7s 7ms/step - loss: 0.2068 - accuracy: 0.9414 - val_loss: 0.2168 - val_accuracy: 0.9408\n",
      "Epoch 75/100\n",
      "938/938 [==============================] - 8s 9ms/step - loss: 0.2065 - accuracy: 0.9407 - val_loss: 0.2290 - val_accuracy: 0.9331\n",
      "Epoch 76/100\n",
      "938/938 [==============================] - 8s 9ms/step - loss: 0.2050 - accuracy: 0.9420 - val_loss: 0.2161 - val_accuracy: 0.9404\n",
      "Epoch 77/100\n",
      "938/938 [==============================] - 8s 8ms/step - loss: 0.2040 - accuracy: 0.9420 - val_loss: 0.2068 - val_accuracy: 0.9424\n",
      "Epoch 78/100\n",
      "938/938 [==============================] - 11s 12ms/step - loss: 0.2032 - accuracy: 0.9425 - val_loss: 0.2087 - val_accuracy: 0.9409\n",
      "Epoch 79/100\n",
      "938/938 [==============================] - 20s 21ms/step - loss: 0.2021 - accuracy: 0.9429 - val_loss: 0.2538 - val_accuracy: 0.9225\n",
      "Epoch 80/100\n",
      "938/938 [==============================] - 8s 9ms/step - loss: 0.2009 - accuracy: 0.9431 - val_loss: 0.2053 - val_accuracy: 0.9426\n",
      "Epoch 81/100\n",
      "938/938 [==============================] - 7s 8ms/step - loss: 0.1993 - accuracy: 0.9437 - val_loss: 0.2138 - val_accuracy: 0.9412\n",
      "Epoch 82/100\n",
      "938/938 [==============================] - 7s 7ms/step - loss: 0.1986 - accuracy: 0.9439 - val_loss: 0.2127 - val_accuracy: 0.9410\n",
      "Epoch 83/100\n",
      "938/938 [==============================] - 7s 7ms/step - loss: 0.1968 - accuracy: 0.9443 - val_loss: 0.2170 - val_accuracy: 0.9377\n",
      "Epoch 84/100\n",
      "938/938 [==============================] - 7s 7ms/step - loss: 0.1955 - accuracy: 0.9452 - val_loss: 0.2051 - val_accuracy: 0.9411\n",
      "Epoch 85/100\n",
      "938/938 [==============================] - 7s 7ms/step - loss: 0.1940 - accuracy: 0.9454 - val_loss: 0.2084 - val_accuracy: 0.9431\n",
      "Epoch 86/100\n",
      "938/938 [==============================] - 7s 7ms/step - loss: 0.1931 - accuracy: 0.9454 - val_loss: 0.2030 - val_accuracy: 0.9434\n",
      "Epoch 87/100\n",
      "938/938 [==============================] - 7s 7ms/step - loss: 0.1914 - accuracy: 0.9464 - val_loss: 0.2069 - val_accuracy: 0.9404\n",
      "Epoch 88/100\n",
      "938/938 [==============================] - 7s 7ms/step - loss: 0.1905 - accuracy: 0.9459 - val_loss: 0.1939 - val_accuracy: 0.9449\n",
      "Epoch 89/100\n",
      "938/938 [==============================] - 7s 7ms/step - loss: 0.1892 - accuracy: 0.9469 - val_loss: 0.1949 - val_accuracy: 0.9473\n",
      "Epoch 90/100\n",
      "938/938 [==============================] - 14s 15ms/step - loss: 0.1873 - accuracy: 0.9469 - val_loss: 0.1966 - val_accuracy: 0.9436\n",
      "Epoch 91/100\n",
      "938/938 [==============================] - 14s 15ms/step - loss: 0.1862 - accuracy: 0.9477 - val_loss: 0.1992 - val_accuracy: 0.9450\n",
      "Epoch 92/100\n",
      "938/938 [==============================] - 7s 7ms/step - loss: 0.1851 - accuracy: 0.9472 - val_loss: 0.1947 - val_accuracy: 0.9470\n",
      "Epoch 93/100\n",
      "938/938 [==============================] - 7s 8ms/step - loss: 0.1831 - accuracy: 0.9491 - val_loss: 0.1979 - val_accuracy: 0.9433\n",
      "Epoch 94/100\n",
      "938/938 [==============================] - 9s 10ms/step - loss: 0.1822 - accuracy: 0.9485 - val_loss: 0.1986 - val_accuracy: 0.9430\n",
      "Epoch 95/100\n",
      "938/938 [==============================] - 14s 15ms/step - loss: 0.1802 - accuracy: 0.9494 - val_loss: 0.1910 - val_accuracy: 0.9443\n",
      "Epoch 96/100\n",
      "938/938 [==============================] - 12s 13ms/step - loss: 0.1791 - accuracy: 0.9500 - val_loss: 0.1936 - val_accuracy: 0.9456\n",
      "Epoch 97/100\n",
      "938/938 [==============================] - 10s 11ms/step - loss: 0.1779 - accuracy: 0.9502 - val_loss: 0.1867 - val_accuracy: 0.9489\n",
      "Epoch 98/100\n",
      "938/938 [==============================] - 6s 7ms/step - loss: 0.1763 - accuracy: 0.9512 - val_loss: 0.1957 - val_accuracy: 0.9426\n",
      "Epoch 99/100\n",
      "938/938 [==============================] - 7s 7ms/step - loss: 0.1754 - accuracy: 0.9507 - val_loss: 0.1920 - val_accuracy: 0.9449\n",
      "Epoch 100/100\n",
      "938/938 [==============================] - 7s 7ms/step - loss: 0.1732 - accuracy: 0.9516 - val_loss: 0.1835 - val_accuracy: 0.9498\n"
     ]
    }
   ],
   "source": [
    "run_hist = model.fit(x_train, y_train,\n",
    "                     batch_size=batch_size, \n",
    "                     epochs=nb_epoch, verbose=1, \n",
    "                     validation_data=(x_test, y_test))"
   ]
  },
  {
   "cell_type": "markdown",
   "id": "c7522ea6-4c7f-4337-a6ae-f3434afd421f",
   "metadata": {
    "slideshow": {
     "slide_type": "subslide"
    },
    "tags": []
   },
   "source": [
    "#### Step 4: Evaluate"
   ]
  },
  {
   "cell_type": "code",
   "execution_count": 12,
   "id": "a45f48f7-f2c2-4847-9901-b21c10672103",
   "metadata": {},
   "outputs": [
    {
     "data": {
      "text/plain": [
       "dict_keys(['loss', 'accuracy', 'val_loss', 'val_accuracy'])"
      ]
     },
     "execution_count": 12,
     "metadata": {},
     "output_type": "execute_result"
    }
   ],
   "source": [
    "run_hist.history.keys()"
   ]
  },
  {
   "cell_type": "markdown",
   "id": "ce910d50-b398-4bf4-8648-ba5c99714823",
   "metadata": {},
   "source": [
    "Let's plot the training accuracy and the validation accuracy over the different epochs and see how it looks."
   ]
  },
  {
   "cell_type": "code",
   "execution_count": 13,
   "id": "5684149b-1d59-4275-94c2-20599c68832b",
   "metadata": {},
   "outputs": [
    {
     "data": {
      "text/plain": [
       "<matplotlib.legend.Legend at 0x26fa9e414c0>"
      ]
     },
     "execution_count": 13,
     "metadata": {},
     "output_type": "execute_result"
    },
    {
     "data": {
      "image/png": "[encoded data removed]",
      "text/plain": [
       "<Figure size 432x288 with 1 Axes>"
      ]
     },
     "metadata": {
      "needs_background": "light"
     },
     "output_type": "display_data"
    }
   ],
   "source": [
    "fig, ax = plt.subplots()\n",
    "ax.plot(run_hist.history[\"accuracy\"],'r',\n",
    "        marker='.', label=\"Training\")\n",
    "ax.plot(run_hist.history[\"val_accuracy\"],'g',\n",
    "        marker='.', label=\"Validation\")\n",
    "plt.xlabel('Epochs')\n",
    "plt.ylabel('Accuracy')\n",
    "ax.legend()"
   ]
  },
  {
   "cell_type": "code",
   "execution_count": 14,
   "id": "d523faf1-fbee-49c6-8cfb-498bf1b598ce",
   "metadata": {},
   "outputs": [
    {
     "name": "stdout",
     "output_type": "stream",
     "text": [
      "Available Metrics in Model: ['loss', 'accuracy']\n"
     ]
    }
   ],
   "source": [
    "print('Available Metrics in Model: {}'.format(model.metrics_names))"
   ]
  },
  {
   "cell_type": "code",
   "execution_count": 15,
   "id": "f11dce12-5c45-4224-a700-442bd42db73b",
   "metadata": {},
   "outputs": [
    {
     "name": "stdout",
     "output_type": "stream",
     "text": [
      "Test Loss: 0.18352389335632324\n",
      "Test Accuracy: 0.9498000144958496\n"
     ]
    }
   ],
   "source": [
    "# Evaluating the model on the test data    \n",
    "loss, accuracy = model.evaluate(x_test, y_test, verbose=0)\n",
    "print('Test Loss:', loss)\n",
    "print('Test Accuracy:', accuracy)"
   ]
  },
  {
   "cell_type": "markdown",
   "id": "2d24375b-515c-495e-9be2-5cd3d82d304c",
   "metadata": {
    "slideshow": {
     "slide_type": "slide"
    },
    "tags": []
   },
   "source": [
    "# Adding More Dense Layers"
   ]
  },
  {
   "cell_type": "code",
   "execution_count": 16,
   "id": "ea0b03b3-cd9b-4efb-b7d5-81f9b5f2eee6",
   "metadata": {
    "slideshow": {
     "slide_type": "subslide"
    }
   },
   "outputs": [],
   "source": [
    "model = Sequential()\n",
    "model.add(Conv2D(nb_filters, (nb_conv, nb_conv),\n",
    "                 padding='valid',\n",
    "                 input_shape=shape_ord))\n",
    "model.add(Activation('relu'))\n",
    "\n",
    "model.add(Flatten())\n",
    "model.add(Dense(128))\n",
    "model.add(Activation('relu'))\n",
    "\n",
    "model.add(Dense(nb_classes))\n",
    "model.add(Activation('softmax'))"
   ]
  },
  {
   "cell_type": "code",
   "execution_count": 17,
   "id": "2bc6c30a-5205-4cfc-9b08-9f6acf76f288",
   "metadata": {
    "collapsed": true,
    "jupyter": {
     "outputs_hidden": true
    },
    "slideshow": {
     "slide_type": "subslide"
    },
    "tags": []
   },
   "outputs": [
    {
     "name": "stdout",
     "output_type": "stream",
     "text": [
      "Epoch 1/100\n",
      "938/938 [==============================] - 10s 10ms/step - loss: 0.4739 - accuracy: 0.8760 - val_loss: 0.2593 - val_accuracy: 0.9245\n",
      "Epoch 2/100\n",
      "938/938 [==============================] - 13s 14ms/step - loss: 0.2329 - accuracy: 0.9319 - val_loss: 0.1936 - val_accuracy: 0.9423\n",
      "Epoch 3/100\n",
      "938/938 [==============================] - 10s 11ms/step - loss: 0.1838 - accuracy: 0.9466 - val_loss: 0.1623 - val_accuracy: 0.9520\n",
      "Epoch 4/100\n",
      "938/938 [==============================] - 8s 9ms/step - loss: 0.1514 - accuracy: 0.9559 - val_loss: 0.1380 - val_accuracy: 0.9585\n",
      "Epoch 5/100\n",
      "938/938 [==============================] - 8s 9ms/step - loss: 0.1295 - accuracy: 0.9617 - val_loss: 0.1288 - val_accuracy: 0.9629\n",
      "Epoch 6/100\n",
      "938/938 [==============================] - 8s 9ms/step - loss: 0.1129 - accuracy: 0.9670 - val_loss: 0.1247 - val_accuracy: 0.9613\n",
      "Epoch 7/100\n",
      "938/938 [==============================] - 8s 8ms/step - loss: 0.1006 - accuracy: 0.9701 - val_loss: 0.1029 - val_accuracy: 0.9689\n",
      "Epoch 8/100\n",
      "938/938 [==============================] - 8s 8ms/step - loss: 0.0900 - accuracy: 0.9740 - val_loss: 0.0905 - val_accuracy: 0.9728\n",
      "Epoch 9/100\n",
      "938/938 [==============================] - 9s 10ms/step - loss: 0.0820 - accuracy: 0.9759 - val_loss: 0.0890 - val_accuracy: 0.9728\n",
      "Epoch 10/100\n",
      "938/938 [==============================] - 8s 9ms/step - loss: 0.0751 - accuracy: 0.9779 - val_loss: 0.0853 - val_accuracy: 0.9746\n",
      "Epoch 11/100\n",
      "938/938 [==============================] - 7s 8ms/step - loss: 0.0695 - accuracy: 0.9799 - val_loss: 0.0875 - val_accuracy: 0.9734\n",
      "Epoch 12/100\n",
      "938/938 [==============================] - 7s 8ms/step - loss: 0.0645 - accuracy: 0.9810 - val_loss: 0.0924 - val_accuracy: 0.9716\n",
      "Epoch 13/100\n",
      "938/938 [==============================] - 8s 8ms/step - loss: 0.0608 - accuracy: 0.9823 - val_loss: 0.0798 - val_accuracy: 0.9761\n",
      "Epoch 14/100\n",
      "938/938 [==============================] - 8s 8ms/step - loss: 0.0573 - accuracy: 0.9827 - val_loss: 0.0747 - val_accuracy: 0.9776\n",
      "Epoch 15/100\n",
      "938/938 [==============================] - 8s 8ms/step - loss: 0.0533 - accuracy: 0.9839 - val_loss: 0.0774 - val_accuracy: 0.9776\n",
      "Epoch 16/100\n",
      "938/938 [==============================] - 7s 7ms/step - loss: 0.0503 - accuracy: 0.9850 - val_loss: 0.0693 - val_accuracy: 0.9776\n",
      "Epoch 17/100\n",
      "938/938 [==============================] - 7s 8ms/step - loss: 0.0477 - accuracy: 0.9854 - val_loss: 0.0691 - val_accuracy: 0.9788\n",
      "Epoch 18/100\n",
      "938/938 [==============================] - 7s 8ms/step - loss: 0.0448 - accuracy: 0.9871 - val_loss: 0.0687 - val_accuracy: 0.9800\n",
      "Epoch 19/100\n",
      "938/938 [==============================] - 7s 8ms/step - loss: 0.0430 - accuracy: 0.9872 - val_loss: 0.0773 - val_accuracy: 0.9766\n",
      "Epoch 20/100\n",
      "938/938 [==============================] - 7s 8ms/step - loss: 0.0406 - accuracy: 0.9880 - val_loss: 0.0737 - val_accuracy: 0.9765\n",
      "Epoch 21/100\n",
      "938/938 [==============================] - 8s 8ms/step - loss: 0.0376 - accuracy: 0.9890 - val_loss: 0.0764 - val_accuracy: 0.9761\n",
      "Epoch 22/100\n",
      "938/938 [==============================] - 7s 8ms/step - loss: 0.0362 - accuracy: 0.9893 - val_loss: 0.0686 - val_accuracy: 0.9802\n",
      "Epoch 23/100\n",
      "938/938 [==============================] - 7s 8ms/step - loss: 0.0345 - accuracy: 0.9896 - val_loss: 0.0688 - val_accuracy: 0.9781\n",
      "Epoch 24/100\n",
      "938/938 [==============================] - 7s 8ms/step - loss: 0.0325 - accuracy: 0.9905 - val_loss: 0.0697 - val_accuracy: 0.9794\n",
      "Epoch 25/100\n",
      "938/938 [==============================] - 7s 8ms/step - loss: 0.0312 - accuracy: 0.9905 - val_loss: 0.0679 - val_accuracy: 0.9789\n",
      "Epoch 26/100\n",
      "938/938 [==============================] - 8s 8ms/step - loss: 0.0294 - accuracy: 0.9915 - val_loss: 0.0651 - val_accuracy: 0.9808\n",
      "Epoch 27/100\n",
      "938/938 [==============================] - 7s 8ms/step - loss: 0.0288 - accuracy: 0.9916 - val_loss: 0.0670 - val_accuracy: 0.9817\n",
      "Epoch 28/100\n",
      "938/938 [==============================] - 8s 8ms/step - loss: 0.0267 - accuracy: 0.9925 - val_loss: 0.0669 - val_accuracy: 0.9798\n",
      "Epoch 29/100\n",
      "938/938 [==============================] - 7s 8ms/step - loss: 0.0259 - accuracy: 0.9928 - val_loss: 0.0638 - val_accuracy: 0.9809\n",
      "Epoch 30/100\n",
      "938/938 [==============================] - 7s 7ms/step - loss: 0.0244 - accuracy: 0.9930 - val_loss: 0.0642 - val_accuracy: 0.9809\n",
      "Epoch 31/100\n",
      "938/938 [==============================] - 8s 8ms/step - loss: 0.0235 - accuracy: 0.9932 - val_loss: 0.0671 - val_accuracy: 0.9808\n",
      "Epoch 32/100\n",
      "938/938 [==============================] - 7s 8ms/step - loss: 0.0227 - accuracy: 0.9940 - val_loss: 0.0624 - val_accuracy: 0.9824\n",
      "Epoch 33/100\n",
      "938/938 [==============================] - 8s 8ms/step - loss: 0.0210 - accuracy: 0.9940 - val_loss: 0.0708 - val_accuracy: 0.9799\n",
      "Epoch 34/100\n",
      "938/938 [==============================] - 8s 8ms/step - loss: 0.0203 - accuracy: 0.9944 - val_loss: 0.0642 - val_accuracy: 0.9803\n",
      "Epoch 35/100\n",
      "938/938 [==============================] - 8s 9ms/step - loss: 0.0196 - accuracy: 0.9944 - val_loss: 0.0678 - val_accuracy: 0.9805\n",
      "Epoch 36/100\n",
      "938/938 [==============================] - 7s 7ms/step - loss: 0.0185 - accuracy: 0.9951 - val_loss: 0.0662 - val_accuracy: 0.9807\n",
      "Epoch 37/100\n",
      "938/938 [==============================] - 8s 9ms/step - loss: 0.0175 - accuracy: 0.9955 - val_loss: 0.0679 - val_accuracy: 0.9810\n",
      "Epoch 38/100\n",
      "938/938 [==============================] - 7s 8ms/step - loss: 0.0168 - accuracy: 0.9955 - val_loss: 0.0683 - val_accuracy: 0.9799\n",
      "Epoch 39/100\n",
      "938/938 [==============================] - 8s 8ms/step - loss: 0.0154 - accuracy: 0.9962 - val_loss: 0.0643 - val_accuracy: 0.9828\n",
      "Epoch 40/100\n",
      "938/938 [==============================] - 9s 9ms/step - loss: 0.0151 - accuracy: 0.9962 - val_loss: 0.0665 - val_accuracy: 0.9807\n",
      "Epoch 41/100\n",
      "938/938 [==============================] - 8s 9ms/step - loss: 0.0145 - accuracy: 0.9964 - val_loss: 0.0644 - val_accuracy: 0.9812\n",
      "Epoch 42/100\n",
      "938/938 [==============================] - 8s 8ms/step - loss: 0.0137 - accuracy: 0.9966 - val_loss: 0.0647 - val_accuracy: 0.9822\n",
      "Epoch 43/100\n",
      "938/938 [==============================] - 7s 8ms/step - loss: 0.0136 - accuracy: 0.9966 - val_loss: 0.0658 - val_accuracy: 0.9818\n",
      "Epoch 44/100\n",
      "938/938 [==============================] - 7s 8ms/step - loss: 0.0128 - accuracy: 0.9970 - val_loss: 0.0652 - val_accuracy: 0.9815\n",
      "Epoch 45/100\n",
      "938/938 [==============================] - 8s 8ms/step - loss: 0.0121 - accuracy: 0.9971 - val_loss: 0.0715 - val_accuracy: 0.9815\n",
      "Epoch 46/100\n",
      "938/938 [==============================] - 7s 8ms/step - loss: 0.0116 - accuracy: 0.9975 - val_loss: 0.0651 - val_accuracy: 0.9812\n",
      "Epoch 47/100\n",
      "938/938 [==============================] - 7s 8ms/step - loss: 0.0106 - accuracy: 0.9978 - val_loss: 0.0685 - val_accuracy: 0.9805\n",
      "Epoch 48/100\n",
      "938/938 [==============================] - 7s 8ms/step - loss: 0.0105 - accuracy: 0.9978 - val_loss: 0.0658 - val_accuracy: 0.9826\n",
      "Epoch 49/100\n",
      "938/938 [==============================] - 7s 8ms/step - loss: 0.0102 - accuracy: 0.9980 - val_loss: 0.0692 - val_accuracy: 0.9818\n",
      "Epoch 50/100\n",
      "938/938 [==============================] - 7s 7ms/step - loss: 0.0094 - accuracy: 0.9981 - val_loss: 0.0696 - val_accuracy: 0.9808\n",
      "Epoch 51/100\n",
      "938/938 [==============================] - 7s 8ms/step - loss: 0.0092 - accuracy: 0.9981 - val_loss: 0.0703 - val_accuracy: 0.9818\n",
      "Epoch 52/100\n",
      "938/938 [==============================] - 7s 8ms/step - loss: 0.0087 - accuracy: 0.9984 - val_loss: 0.0691 - val_accuracy: 0.9810\n",
      "Epoch 53/100\n",
      "938/938 [==============================] - 7s 8ms/step - loss: 0.0084 - accuracy: 0.9986 - val_loss: 0.0678 - val_accuracy: 0.9810\n",
      "Epoch 54/100\n",
      "938/938 [==============================] - 8s 8ms/step - loss: 0.0082 - accuracy: 0.9986 - val_loss: 0.0680 - val_accuracy: 0.9830\n",
      "Epoch 55/100\n",
      "938/938 [==============================] - 7s 8ms/step - loss: 0.0079 - accuracy: 0.9988 - val_loss: 0.0695 - val_accuracy: 0.9817\n",
      "Epoch 56/100\n",
      "938/938 [==============================] - 7s 8ms/step - loss: 0.0072 - accuracy: 0.9987 - val_loss: 0.0712 - val_accuracy: 0.9817\n",
      "Epoch 57/100\n",
      "938/938 [==============================] - 8s 9ms/step - loss: 0.0071 - accuracy: 0.9988 - val_loss: 0.0705 - val_accuracy: 0.9821\n",
      "Epoch 58/100\n",
      "938/938 [==============================] - 8s 8ms/step - loss: 0.0069 - accuracy: 0.9988 - val_loss: 0.0729 - val_accuracy: 0.9810\n",
      "Epoch 59/100\n",
      "938/938 [==============================] - 8s 8ms/step - loss: 0.0066 - accuracy: 0.9989 - val_loss: 0.0704 - val_accuracy: 0.9815\n",
      "Epoch 60/100\n",
      "938/938 [==============================] - 7s 8ms/step - loss: 0.0062 - accuracy: 0.9991 - val_loss: 0.0768 - val_accuracy: 0.9807\n",
      "Epoch 61/100\n",
      "938/938 [==============================] - 8s 8ms/step - loss: 0.0059 - accuracy: 0.9992 - val_loss: 0.0727 - val_accuracy: 0.9822\n",
      "Epoch 62/100\n",
      "938/938 [==============================] - 7s 8ms/step - loss: 0.0059 - accuracy: 0.9991 - val_loss: 0.0718 - val_accuracy: 0.9809\n",
      "Epoch 63/100\n",
      "938/938 [==============================] - 8s 8ms/step - loss: 0.0055 - accuracy: 0.9993 - val_loss: 0.0715 - val_accuracy: 0.9817\n",
      "Epoch 64/100\n",
      "938/938 [==============================] - 7s 8ms/step - loss: 0.0052 - accuracy: 0.9994 - val_loss: 0.0724 - val_accuracy: 0.9813\n",
      "Epoch 65/100\n",
      "938/938 [==============================] - 8s 9ms/step - loss: 0.0050 - accuracy: 0.9993 - val_loss: 0.0716 - val_accuracy: 0.9823\n",
      "Epoch 66/100\n",
      "938/938 [==============================] - 7s 8ms/step - loss: 0.0047 - accuracy: 0.9995 - val_loss: 0.0834 - val_accuracy: 0.9789\n",
      "Epoch 67/100\n",
      "938/938 [==============================] - 7s 8ms/step - loss: 0.0048 - accuracy: 0.9993 - val_loss: 0.0777 - val_accuracy: 0.9797\n",
      "Epoch 68/100\n",
      "938/938 [==============================] - 7s 8ms/step - loss: 0.0042 - accuracy: 0.9996 - val_loss: 0.0774 - val_accuracy: 0.9808\n",
      "Epoch 69/100\n",
      "938/938 [==============================] - 8s 8ms/step - loss: 0.0043 - accuracy: 0.9994 - val_loss: 0.0735 - val_accuracy: 0.9807\n",
      "Epoch 70/100\n",
      "938/938 [==============================] - 8s 9ms/step - loss: 0.0041 - accuracy: 0.9995 - val_loss: 0.0728 - val_accuracy: 0.9815\n",
      "Epoch 71/100\n",
      "938/938 [==============================] - 7s 8ms/step - loss: 0.0039 - accuracy: 0.9996 - val_loss: 0.0731 - val_accuracy: 0.9820\n",
      "Epoch 72/100\n",
      "938/938 [==============================] - 7s 8ms/step - loss: 0.0037 - accuracy: 0.9996 - val_loss: 0.0718 - val_accuracy: 0.9821\n",
      "Epoch 73/100\n",
      "938/938 [==============================] - 7s 8ms/step - loss: 0.0036 - accuracy: 0.9996 - val_loss: 0.0742 - val_accuracy: 0.9814\n",
      "Epoch 74/100\n",
      "938/938 [==============================] - 7s 8ms/step - loss: 0.0034 - accuracy: 0.9997 - val_loss: 0.0742 - val_accuracy: 0.9815\n",
      "Epoch 75/100\n",
      "938/938 [==============================] - 7s 8ms/step - loss: 0.0033 - accuracy: 0.9996 - val_loss: 0.0733 - val_accuracy: 0.9816\n",
      "Epoch 76/100\n",
      "938/938 [==============================] - 12s 13ms/step - loss: 0.0032 - accuracy: 0.9997 - val_loss: 0.0753 - val_accuracy: 0.9818\n",
      "Epoch 77/100\n",
      "938/938 [==============================] - 8s 9ms/step - loss: 0.0030 - accuracy: 0.9998 - val_loss: 0.0749 - val_accuracy: 0.9811\n",
      "Epoch 78/100\n",
      "938/938 [==============================] - 7s 8ms/step - loss: 0.0029 - accuracy: 0.9998 - val_loss: 0.0757 - val_accuracy: 0.9811\n",
      "Epoch 79/100\n",
      "938/938 [==============================] - 8s 8ms/step - loss: 0.0030 - accuracy: 0.9997 - val_loss: 0.0754 - val_accuracy: 0.9808\n",
      "Epoch 80/100\n",
      "938/938 [==============================] - 8s 8ms/step - loss: 0.0028 - accuracy: 0.9998 - val_loss: 0.0752 - val_accuracy: 0.9814\n",
      "Epoch 81/100\n",
      "938/938 [==============================] - 7s 8ms/step - loss: 0.0027 - accuracy: 0.9998 - val_loss: 0.0774 - val_accuracy: 0.9815\n",
      "Epoch 82/100\n",
      "938/938 [==============================] - 7s 8ms/step - loss: 0.0025 - accuracy: 0.9998 - val_loss: 0.0755 - val_accuracy: 0.9814\n",
      "Epoch 83/100\n",
      "938/938 [==============================] - 8s 9ms/step - loss: 0.0024 - accuracy: 0.9999 - val_loss: 0.0753 - val_accuracy: 0.9817\n",
      "Epoch 84/100\n",
      "938/938 [==============================] - 11s 11ms/step - loss: 0.0023 - accuracy: 0.9999 - val_loss: 0.0781 - val_accuracy: 0.9818\n",
      "Epoch 85/100\n",
      "938/938 [==============================] - 8s 8ms/step - loss: 0.0024 - accuracy: 0.9999 - val_loss: 0.0779 - val_accuracy: 0.9813\n",
      "Epoch 86/100\n",
      "938/938 [==============================] - 9s 10ms/step - loss: 0.0022 - accuracy: 0.9999 - val_loss: 0.0774 - val_accuracy: 0.9815\n",
      "Epoch 87/100\n",
      "938/938 [==============================] - 7s 8ms/step - loss: 0.0022 - accuracy: 0.9998 - val_loss: 0.0786 - val_accuracy: 0.9810\n",
      "Epoch 88/100\n",
      "938/938 [==============================] - 7s 8ms/step - loss: 0.0021 - accuracy: 0.9999 - val_loss: 0.0774 - val_accuracy: 0.9819\n",
      "Epoch 89/100\n",
      "938/938 [==============================] - 7s 8ms/step - loss: 0.0020 - accuracy: 0.9999 - val_loss: 0.0762 - val_accuracy: 0.9819\n",
      "Epoch 90/100\n",
      "938/938 [==============================] - 7s 8ms/step - loss: 0.0019 - accuracy: 0.9999 - val_loss: 0.0781 - val_accuracy: 0.9817\n",
      "Epoch 91/100\n",
      "938/938 [==============================] - 8s 8ms/step - loss: 0.0019 - accuracy: 0.9999 - val_loss: 0.0794 - val_accuracy: 0.9818\n",
      "Epoch 92/100\n",
      "938/938 [==============================] - 9s 10ms/step - loss: 0.0019 - accuracy: 0.9999 - val_loss: 0.0794 - val_accuracy: 0.9819\n",
      "Epoch 93/100\n",
      "938/938 [==============================] - 8s 8ms/step - loss: 0.0018 - accuracy: 0.9999 - val_loss: 0.0783 - val_accuracy: 0.9814\n",
      "Epoch 94/100\n",
      "938/938 [==============================] - 7s 7ms/step - loss: 0.0017 - accuracy: 0.9999 - val_loss: 0.0774 - val_accuracy: 0.9825\n",
      "Epoch 95/100\n",
      "938/938 [==============================] - 8s 8ms/step - loss: 0.0017 - accuracy: 1.0000 - val_loss: 0.0785 - val_accuracy: 0.9815\n",
      "Epoch 96/100\n",
      "938/938 [==============================] - 7s 7ms/step - loss: 0.0016 - accuracy: 1.0000 - val_loss: 0.0794 - val_accuracy: 0.9820\n",
      "Epoch 97/100\n",
      "938/938 [==============================] - 7s 8ms/step - loss: 0.0017 - accuracy: 0.9999 - val_loss: 0.0793 - val_accuracy: 0.9816\n",
      "Epoch 98/100\n",
      "938/938 [==============================] - 8s 8ms/step - loss: 0.0016 - accuracy: 0.9999 - val_loss: 0.0791 - val_accuracy: 0.9821\n",
      "Epoch 99/100\n",
      "938/938 [==============================] - 7s 7ms/step - loss: 0.0016 - accuracy: 0.9999 - val_loss: 0.0796 - val_accuracy: 0.9812\n",
      "Epoch 100/100\n",
      "938/938 [==============================] - 8s 8ms/step - loss: 0.0015 - accuracy: 1.0000 - val_loss: 0.0808 - val_accuracy: 0.9813\n"
     ]
    }
   ],
   "source": [
    "model.compile(loss='categorical_crossentropy',\n",
    "              optimizer='sgd',\n",
    "              metrics=['accuracy'])\n",
    "\n",
    "run_hist = model.fit(x_train, y_train,\n",
    "                     batch_size=batch_size, \n",
    "                     epochs=nb_epoch,verbose=1,\n",
    "                     validation_data=(x_test, y_test))"
   ]
  },
  {
   "cell_type": "markdown",
   "id": "2de8df61-1aa6-48b5-bbe2-f8d559bcbf33",
   "metadata": {
    "slideshow": {
     "slide_type": "subslide"
    },
    "tags": []
   },
   "source": [
    "#### Evaluation"
   ]
  },
  {
   "cell_type": "code",
   "execution_count": 18,
   "id": "706ef04c-3066-4242-b55d-a0962290cdfa",
   "metadata": {},
   "outputs": [
    {
     "data": {
      "text/plain": [
       "<matplotlib.legend.Legend at 0x270861095e0>"
      ]
     },
     "execution_count": 18,
     "metadata": {},
     "output_type": "execute_result"
    },
    {
     "data": {
      "image/png": "[encoded data removed]",
      "text/plain": [
       "<Figure size 432x288 with 1 Axes>"
      ]
     },
     "metadata": {
      "needs_background": "light"
     },
     "output_type": "display_data"
    }
   ],
   "source": [
    "fig, ax = plt.subplots()\n",
    "ax.plot(run_hist.history[\"accuracy\"],'r',\n",
    "        marker='.', label=\"Training\")\n",
    "ax.plot(run_hist.history[\"val_accuracy\"],'g',\n",
    "        marker='.', label=\"Validation\")\n",
    "plt.xlabel('Epochs')\n",
    "plt.ylabel('Accuracy')\n",
    "ax.legend()"
   ]
  },
  {
   "cell_type": "code",
   "execution_count": 19,
   "id": "d59055a9-a94a-4ef9-8d64-1c8c30a742f9",
   "metadata": {
    "slideshow": {
     "slide_type": "subslide"
    }
   },
   "outputs": [
    {
     "name": "stdout",
     "output_type": "stream",
     "text": [
      "Test score: 0.08079393953084946\n",
      "Test accuracy: 0.9812999963760376\n"
     ]
    }
   ],
   "source": [
    "#Evaluating the model on the test data    \n",
    "score, accuracy = model.evaluate(x_test,  y_test, verbose=0)\n",
    "print('Test score:', score)\n",
    "print('Test accuracy:', accuracy)"
   ]
  },
  {
   "cell_type": "markdown",
   "id": "506921b3-ca72-48eb-8ebb-2d510e1ad2fd",
   "metadata": {
    "slideshow": {
     "slide_type": "slide"
    },
    "tags": []
   },
   "source": [
    "# Adding Dropout Layer"
   ]
  },
  {
   "cell_type": "code",
   "execution_count": 20,
   "id": "4dc22059-8c4b-42c3-a9df-c63650398b2b",
   "metadata": {
    "slideshow": {
     "slide_type": "subslide"
    }
   },
   "outputs": [],
   "source": [
    "model = Sequential()\n",
    "\n",
    "model.add(Conv2D(nb_filters, (nb_conv, nb_conv),\n",
    "                        padding='valid',\n",
    "                        input_shape=shape_ord))\n",
    "model.add(Activation('relu'))\n",
    "\n",
    "model.add(Flatten())\n",
    "model.add(Dense(128))\n",
    "model.add(Activation('relu'))\n",
    "model.add(Dropout(0.5))\n",
    "model.add(Dense(nb_classes))\n",
    "model.add(Activation('softmax'))"
   ]
  },
  {
   "cell_type": "code",
   "execution_count": 21,
   "id": "a9860a8e-5b86-47f0-89dd-c72eb90bac19",
   "metadata": {
    "collapsed": true,
    "jupyter": {
     "outputs_hidden": true
    },
    "slideshow": {
     "slide_type": "subslide"
    },
    "tags": []
   },
   "outputs": [
    {
     "name": "stdout",
     "output_type": "stream",
     "text": [
      "Epoch 1/100\n",
      "938/938 [==============================] - 8s 8ms/step - loss: 0.6284 - accuracy: 0.8213 - val_loss: 0.2582 - val_accuracy: 0.9272\n",
      "Epoch 2/100\n",
      "938/938 [==============================] - 8s 8ms/step - loss: 0.3163 - accuracy: 0.9082 - val_loss: 0.1887 - val_accuracy: 0.9444\n",
      "Epoch 3/100\n",
      "938/938 [==============================] - 7s 8ms/step - loss: 0.2625 - accuracy: 0.9236 - val_loss: 0.1550 - val_accuracy: 0.9530\n",
      "Epoch 4/100\n",
      "938/938 [==============================] - 7s 7ms/step - loss: 0.2321 - accuracy: 0.9314 - val_loss: 0.1376 - val_accuracy: 0.9579\n",
      "Epoch 5/100\n",
      "938/938 [==============================] - 7s 8ms/step - loss: 0.2101 - accuracy: 0.9388 - val_loss: 0.1224 - val_accuracy: 0.9636\n",
      "Epoch 6/100\n",
      "938/938 [==============================] - 7s 8ms/step - loss: 0.1963 - accuracy: 0.9435 - val_loss: 0.1188 - val_accuracy: 0.9635\n",
      "Epoch 7/100\n",
      "938/938 [==============================] - 7s 8ms/step - loss: 0.1877 - accuracy: 0.9454 - val_loss: 0.1092 - val_accuracy: 0.9667\n",
      "Epoch 8/100\n",
      "938/938 [==============================] - 7s 7ms/step - loss: 0.1812 - accuracy: 0.9471 - val_loss: 0.1058 - val_accuracy: 0.9690\n",
      "Epoch 9/100\n",
      "938/938 [==============================] - 7s 8ms/step - loss: 0.1717 - accuracy: 0.9494 - val_loss: 0.1009 - val_accuracy: 0.9691\n",
      "Epoch 10/100\n",
      "938/938 [==============================] - 7s 8ms/step - loss: 0.1651 - accuracy: 0.9514 - val_loss: 0.0957 - val_accuracy: 0.9700\n",
      "Epoch 11/100\n",
      "938/938 [==============================] - 11s 12ms/step - loss: 0.1631 - accuracy: 0.9518 - val_loss: 0.0915 - val_accuracy: 0.9722\n",
      "Epoch 12/100\n",
      "938/938 [==============================] - 8s 9ms/step - loss: 0.1550 - accuracy: 0.9546 - val_loss: 0.0951 - val_accuracy: 0.9711\n",
      "Epoch 13/100\n",
      "938/938 [==============================] - 7s 8ms/step - loss: 0.1511 - accuracy: 0.9549 - val_loss: 0.0893 - val_accuracy: 0.9727\n",
      "Epoch 14/100\n",
      "938/938 [==============================] - 7s 7ms/step - loss: 0.1508 - accuracy: 0.9556 - val_loss: 0.0858 - val_accuracy: 0.9726\n",
      "Epoch 15/100\n",
      "938/938 [==============================] - 7s 7ms/step - loss: 0.1462 - accuracy: 0.9569 - val_loss: 0.0876 - val_accuracy: 0.9726\n",
      "Epoch 16/100\n",
      "938/938 [==============================] - 8s 8ms/step - loss: 0.1426 - accuracy: 0.9578 - val_loss: 0.0857 - val_accuracy: 0.9737\n",
      "Epoch 17/100\n",
      "938/938 [==============================] - 7s 8ms/step - loss: 0.1390 - accuracy: 0.9584 - val_loss: 0.0846 - val_accuracy: 0.9744\n",
      "Epoch 18/100\n",
      "938/938 [==============================] - 8s 8ms/step - loss: 0.1372 - accuracy: 0.9585 - val_loss: 0.0812 - val_accuracy: 0.9749\n",
      "Epoch 19/100\n",
      "938/938 [==============================] - 8s 8ms/step - loss: 0.1350 - accuracy: 0.9592 - val_loss: 0.0824 - val_accuracy: 0.9744\n",
      "Epoch 20/100\n",
      "938/938 [==============================] - 7s 7ms/step - loss: 0.1340 - accuracy: 0.9588 - val_loss: 0.0805 - val_accuracy: 0.9754\n",
      "Epoch 21/100\n",
      "938/938 [==============================] - 7s 7ms/step - loss: 0.1287 - accuracy: 0.9610 - val_loss: 0.0811 - val_accuracy: 0.9749\n",
      "Epoch 22/100\n",
      "938/938 [==============================] - 7s 8ms/step - loss: 0.1283 - accuracy: 0.9607 - val_loss: 0.0754 - val_accuracy: 0.9772\n",
      "Epoch 23/100\n",
      "938/938 [==============================] - 8s 8ms/step - loss: 0.1273 - accuracy: 0.9616 - val_loss: 0.0755 - val_accuracy: 0.9778\n",
      "Epoch 24/100\n",
      "938/938 [==============================] - 8s 9ms/step - loss: 0.1266 - accuracy: 0.9610 - val_loss: 0.0761 - val_accuracy: 0.9767\n",
      "Epoch 25/100\n",
      "938/938 [==============================] - 7s 8ms/step - loss: 0.1243 - accuracy: 0.9625 - val_loss: 0.0759 - val_accuracy: 0.9771\n",
      "Epoch 26/100\n",
      "938/938 [==============================] - 7s 8ms/step - loss: 0.1229 - accuracy: 0.9617 - val_loss: 0.0784 - val_accuracy: 0.9751\n",
      "Epoch 27/100\n",
      "938/938 [==============================] - 8s 8ms/step - loss: 0.1205 - accuracy: 0.9642 - val_loss: 0.0752 - val_accuracy: 0.9765\n",
      "Epoch 28/100\n",
      "938/938 [==============================] - 7s 8ms/step - loss: 0.1172 - accuracy: 0.9644 - val_loss: 0.0735 - val_accuracy: 0.9777\n",
      "Epoch 29/100\n",
      "938/938 [==============================] - 8s 8ms/step - loss: 0.1183 - accuracy: 0.9643 - val_loss: 0.0759 - val_accuracy: 0.9772\n",
      "Epoch 30/100\n",
      "938/938 [==============================] - 7s 7ms/step - loss: 0.1143 - accuracy: 0.9655 - val_loss: 0.0747 - val_accuracy: 0.9781\n",
      "Epoch 31/100\n",
      "938/938 [==============================] - 7s 8ms/step - loss: 0.1177 - accuracy: 0.9641 - val_loss: 0.0776 - val_accuracy: 0.9766\n",
      "Epoch 32/100\n",
      "938/938 [==============================] - 8s 8ms/step - loss: 0.1161 - accuracy: 0.9644 - val_loss: 0.0729 - val_accuracy: 0.9774\n",
      "Epoch 33/100\n",
      "938/938 [==============================] - 7s 8ms/step - loss: 0.1122 - accuracy: 0.9659 - val_loss: 0.0749 - val_accuracy: 0.9788\n",
      "Epoch 34/100\n",
      "938/938 [==============================] - 7s 8ms/step - loss: 0.1132 - accuracy: 0.9650 - val_loss: 0.0731 - val_accuracy: 0.9785\n",
      "Epoch 35/100\n",
      "938/938 [==============================] - 7s 8ms/step - loss: 0.1114 - accuracy: 0.9661 - val_loss: 0.0745 - val_accuracy: 0.9784\n",
      "Epoch 36/100\n",
      "938/938 [==============================] - 7s 7ms/step - loss: 0.1083 - accuracy: 0.9665 - val_loss: 0.0726 - val_accuracy: 0.9791\n",
      "Epoch 37/100\n",
      "938/938 [==============================] - 8s 9ms/step - loss: 0.1075 - accuracy: 0.9665 - val_loss: 0.0714 - val_accuracy: 0.9780\n",
      "Epoch 38/100\n",
      "938/938 [==============================] - 9s 9ms/step - loss: 0.1084 - accuracy: 0.9664 - val_loss: 0.0728 - val_accuracy: 0.9780\n",
      "Epoch 39/100\n",
      "938/938 [==============================] - 8s 9ms/step - loss: 0.1079 - accuracy: 0.9662 - val_loss: 0.0713 - val_accuracy: 0.9786\n",
      "Epoch 40/100\n",
      "938/938 [==============================] - 8s 8ms/step - loss: 0.1027 - accuracy: 0.9692 - val_loss: 0.0713 - val_accuracy: 0.9797\n",
      "Epoch 41/100\n",
      "938/938 [==============================] - 7s 8ms/step - loss: 0.1058 - accuracy: 0.9675 - val_loss: 0.0702 - val_accuracy: 0.9796\n",
      "Epoch 42/100\n",
      "938/938 [==============================] - 7s 8ms/step - loss: 0.1023 - accuracy: 0.9682 - val_loss: 0.0713 - val_accuracy: 0.9789\n",
      "Epoch 43/100\n",
      "938/938 [==============================] - 8s 8ms/step - loss: 0.1022 - accuracy: 0.9682 - val_loss: 0.0694 - val_accuracy: 0.9800\n",
      "Epoch 44/100\n",
      "938/938 [==============================] - 8s 8ms/step - loss: 0.1005 - accuracy: 0.9684 - val_loss: 0.0719 - val_accuracy: 0.9782\n",
      "Epoch 45/100\n",
      "938/938 [==============================] - 7s 7ms/step - loss: 0.1012 - accuracy: 0.9688 - val_loss: 0.0688 - val_accuracy: 0.9795\n",
      "Epoch 46/100\n",
      "938/938 [==============================] - 7s 8ms/step - loss: 0.1004 - accuracy: 0.9682 - val_loss: 0.0703 - val_accuracy: 0.9795\n",
      "Epoch 47/100\n",
      "938/938 [==============================] - 7s 8ms/step - loss: 0.1012 - accuracy: 0.9685 - val_loss: 0.0704 - val_accuracy: 0.9797\n",
      "Epoch 48/100\n",
      "938/938 [==============================] - 8s 9ms/step - loss: 0.0967 - accuracy: 0.9697 - val_loss: 0.0708 - val_accuracy: 0.9789\n",
      "Epoch 49/100\n",
      "938/938 [==============================] - 9s 9ms/step - loss: 0.0969 - accuracy: 0.9700 - val_loss: 0.0687 - val_accuracy: 0.9806\n",
      "Epoch 50/100\n",
      "938/938 [==============================] - 7s 8ms/step - loss: 0.0962 - accuracy: 0.9690 - val_loss: 0.0690 - val_accuracy: 0.9790\n",
      "Epoch 51/100\n",
      "938/938 [==============================] - 7s 7ms/step - loss: 0.0928 - accuracy: 0.9711 - val_loss: 0.0705 - val_accuracy: 0.9801\n",
      "Epoch 52/100\n",
      "938/938 [==============================] - 7s 8ms/step - loss: 0.0946 - accuracy: 0.9701 - val_loss: 0.0703 - val_accuracy: 0.9798\n",
      "Epoch 53/100\n",
      "938/938 [==============================] - 7s 7ms/step - loss: 0.0935 - accuracy: 0.9711 - val_loss: 0.0706 - val_accuracy: 0.9785\n",
      "Epoch 54/100\n",
      "938/938 [==============================] - 7s 7ms/step - loss: 0.0920 - accuracy: 0.9711 - val_loss: 0.0682 - val_accuracy: 0.9800\n",
      "Epoch 55/100\n",
      "938/938 [==============================] - 7s 8ms/step - loss: 0.0920 - accuracy: 0.9709 - val_loss: 0.0670 - val_accuracy: 0.9797\n",
      "Epoch 56/100\n",
      "938/938 [==============================] - 7s 8ms/step - loss: 0.0872 - accuracy: 0.9720 - val_loss: 0.0667 - val_accuracy: 0.9796\n",
      "Epoch 57/100\n",
      "938/938 [==============================] - 7s 8ms/step - loss: 0.0897 - accuracy: 0.9723 - val_loss: 0.0691 - val_accuracy: 0.9800\n",
      "Epoch 58/100\n",
      "938/938 [==============================] - 7s 8ms/step - loss: 0.0914 - accuracy: 0.9709 - val_loss: 0.0685 - val_accuracy: 0.9799\n",
      "Epoch 59/100\n",
      "938/938 [==============================] - 7s 7ms/step - loss: 0.0877 - accuracy: 0.9728 - val_loss: 0.0662 - val_accuracy: 0.9811\n",
      "Epoch 60/100\n",
      "938/938 [==============================] - 7s 8ms/step - loss: 0.0876 - accuracy: 0.9718 - val_loss: 0.0663 - val_accuracy: 0.9794\n",
      "Epoch 61/100\n",
      "938/938 [==============================] - 7s 8ms/step - loss: 0.0868 - accuracy: 0.9718 - val_loss: 0.0680 - val_accuracy: 0.9802\n",
      "Epoch 62/100\n",
      "938/938 [==============================] - 7s 8ms/step - loss: 0.0851 - accuracy: 0.9726 - val_loss: 0.0667 - val_accuracy: 0.9807\n",
      "Epoch 63/100\n",
      "938/938 [==============================] - 7s 8ms/step - loss: 0.0840 - accuracy: 0.9738 - val_loss: 0.0648 - val_accuracy: 0.9802\n",
      "Epoch 64/100\n",
      "938/938 [==============================] - 7s 8ms/step - loss: 0.0848 - accuracy: 0.9732 - val_loss: 0.0650 - val_accuracy: 0.9816\n",
      "Epoch 65/100\n",
      "938/938 [==============================] - 8s 8ms/step - loss: 0.0840 - accuracy: 0.9741 - val_loss: 0.0654 - val_accuracy: 0.9812\n",
      "Epoch 66/100\n",
      "938/938 [==============================] - 7s 8ms/step - loss: 0.0826 - accuracy: 0.9731 - val_loss: 0.0686 - val_accuracy: 0.9809\n",
      "Epoch 67/100\n",
      "938/938 [==============================] - 8s 8ms/step - loss: 0.0821 - accuracy: 0.9743 - val_loss: 0.0667 - val_accuracy: 0.9802\n",
      "Epoch 68/100\n",
      "938/938 [==============================] - 8s 8ms/step - loss: 0.0823 - accuracy: 0.9741 - val_loss: 0.0645 - val_accuracy: 0.9807\n",
      "Epoch 69/100\n",
      "938/938 [==============================] - 8s 8ms/step - loss: 0.0805 - accuracy: 0.9742 - val_loss: 0.0650 - val_accuracy: 0.9806\n",
      "Epoch 70/100\n",
      "938/938 [==============================] - 8s 8ms/step - loss: 0.0806 - accuracy: 0.9742 - val_loss: 0.0634 - val_accuracy: 0.9809\n",
      "Epoch 71/100\n",
      "938/938 [==============================] - 7s 8ms/step - loss: 0.0781 - accuracy: 0.9748 - val_loss: 0.0640 - val_accuracy: 0.9817\n",
      "Epoch 72/100\n",
      "938/938 [==============================] - 7s 8ms/step - loss: 0.0787 - accuracy: 0.9746 - val_loss: 0.0637 - val_accuracy: 0.9815\n",
      "Epoch 73/100\n",
      "938/938 [==============================] - 8s 8ms/step - loss: 0.0778 - accuracy: 0.9751 - val_loss: 0.0645 - val_accuracy: 0.9815\n",
      "Epoch 74/100\n",
      "938/938 [==============================] - 7s 8ms/step - loss: 0.0766 - accuracy: 0.9762 - val_loss: 0.0641 - val_accuracy: 0.9806\n",
      "Epoch 75/100\n",
      "938/938 [==============================] - 7s 7ms/step - loss: 0.0762 - accuracy: 0.9761 - val_loss: 0.0615 - val_accuracy: 0.9812\n",
      "Epoch 76/100\n",
      "938/938 [==============================] - 7s 8ms/step - loss: 0.0750 - accuracy: 0.9759 - val_loss: 0.0643 - val_accuracy: 0.9818\n",
      "Epoch 77/100\n",
      "938/938 [==============================] - 7s 7ms/step - loss: 0.0738 - accuracy: 0.9762 - val_loss: 0.0649 - val_accuracy: 0.9819\n",
      "Epoch 78/100\n",
      "938/938 [==============================] - 7s 8ms/step - loss: 0.0724 - accuracy: 0.9765 - val_loss: 0.0655 - val_accuracy: 0.9814\n",
      "Epoch 79/100\n",
      "938/938 [==============================] - 7s 8ms/step - loss: 0.0728 - accuracy: 0.9770 - val_loss: 0.0636 - val_accuracy: 0.9821\n",
      "Epoch 80/100\n",
      "938/938 [==============================] - 7s 8ms/step - loss: 0.0726 - accuracy: 0.9766 - val_loss: 0.0627 - val_accuracy: 0.9817\n",
      "Epoch 81/100\n",
      "938/938 [==============================] - 8s 9ms/step - loss: 0.0716 - accuracy: 0.9775 - val_loss: 0.0644 - val_accuracy: 0.9810\n",
      "Epoch 82/100\n",
      "938/938 [==============================] - 8s 8ms/step - loss: 0.0705 - accuracy: 0.9772 - val_loss: 0.0618 - val_accuracy: 0.9824\n",
      "Epoch 83/100\n",
      "938/938 [==============================] - 7s 7ms/step - loss: 0.0697 - accuracy: 0.9780 - val_loss: 0.0667 - val_accuracy: 0.9813\n",
      "Epoch 84/100\n",
      "938/938 [==============================] - 7s 8ms/step - loss: 0.0713 - accuracy: 0.9772 - val_loss: 0.0618 - val_accuracy: 0.9824\n",
      "Epoch 85/100\n",
      "938/938 [==============================] - 7s 7ms/step - loss: 0.0691 - accuracy: 0.9781 - val_loss: 0.0631 - val_accuracy: 0.9815\n",
      "Epoch 86/100\n",
      "938/938 [==============================] - 7s 7ms/step - loss: 0.0694 - accuracy: 0.9778 - val_loss: 0.0608 - val_accuracy: 0.9825\n",
      "Epoch 87/100\n",
      "938/938 [==============================] - 7s 7ms/step - loss: 0.0685 - accuracy: 0.9782 - val_loss: 0.0621 - val_accuracy: 0.9820\n",
      "Epoch 88/100\n",
      "938/938 [==============================] - 7s 7ms/step - loss: 0.0658 - accuracy: 0.9782 - val_loss: 0.0625 - val_accuracy: 0.9816\n",
      "Epoch 89/100\n",
      "938/938 [==============================] - 7s 8ms/step - loss: 0.0667 - accuracy: 0.9782 - val_loss: 0.0597 - val_accuracy: 0.9823\n",
      "Epoch 90/100\n",
      "938/938 [==============================] - 7s 8ms/step - loss: 0.0644 - accuracy: 0.9789 - val_loss: 0.0605 - val_accuracy: 0.9830\n",
      "Epoch 91/100\n",
      "938/938 [==============================] - 7s 8ms/step - loss: 0.0624 - accuracy: 0.9801 - val_loss: 0.0600 - val_accuracy: 0.9832\n",
      "Epoch 92/100\n",
      "938/938 [==============================] - 7s 8ms/step - loss: 0.0634 - accuracy: 0.9795 - val_loss: 0.0616 - val_accuracy: 0.9826\n",
      "Epoch 93/100\n",
      "938/938 [==============================] - 7s 7ms/step - loss: 0.0637 - accuracy: 0.9796 - val_loss: 0.0593 - val_accuracy: 0.9830\n",
      "Epoch 94/100\n",
      "938/938 [==============================] - 7s 8ms/step - loss: 0.0619 - accuracy: 0.9797 - val_loss: 0.0610 - val_accuracy: 0.9825\n",
      "Epoch 95/100\n",
      "938/938 [==============================] - 7s 8ms/step - loss: 0.0613 - accuracy: 0.9804 - val_loss: 0.0600 - val_accuracy: 0.9822\n",
      "Epoch 96/100\n",
      "938/938 [==============================] - 7s 8ms/step - loss: 0.0617 - accuracy: 0.9803 - val_loss: 0.0597 - val_accuracy: 0.9822\n",
      "Epoch 97/100\n",
      "938/938 [==============================] - 7s 8ms/step - loss: 0.0604 - accuracy: 0.9798 - val_loss: 0.0625 - val_accuracy: 0.9819\n",
      "Epoch 98/100\n",
      "938/938 [==============================] - 8s 9ms/step - loss: 0.0593 - accuracy: 0.9809 - val_loss: 0.0603 - val_accuracy: 0.9824\n",
      "Epoch 99/100\n",
      "938/938 [==============================] - 7s 8ms/step - loss: 0.0575 - accuracy: 0.9809 - val_loss: 0.0608 - val_accuracy: 0.9822\n",
      "Epoch 100/100\n",
      "938/938 [==============================] - 7s 8ms/step - loss: 0.0579 - accuracy: 0.9811 - val_loss: 0.0595 - val_accuracy: 0.9826\n"
     ]
    }
   ],
   "source": [
    "model.compile(loss='categorical_crossentropy',\n",
    "              optimizer='sgd',\n",
    "              metrics=['accuracy'])\n",
    "\n",
    "run_hist = model.fit(x_train, y_train,\n",
    "                     batch_size=batch_size, \n",
    "                     epochs=nb_epoch,verbose=1,\n",
    "                     validation_data=(x_test, y_test))"
   ]
  },
  {
   "cell_type": "markdown",
   "id": "9b490e35-d3ec-4ead-b26e-8b19fc347a39",
   "metadata": {
    "slideshow": {
     "slide_type": "subslide"
    },
    "tags": []
   },
   "source": [
    "#### Evaluation"
   ]
  },
  {
   "cell_type": "code",
   "execution_count": 22,
   "id": "8aeebd04-e554-4849-9b8a-77d2fcfbb38b",
   "metadata": {},
   "outputs": [
    {
     "data": {
      "text/plain": [
       "<matplotlib.legend.Legend at 0x270922ec910>"
      ]
     },
     "execution_count": 22,
     "metadata": {},
     "output_type": "execute_result"
    },
    {
     "data": {
      "image/png": "[encoded data removed]",
      "text/plain": [
       "<Figure size 432x288 with 1 Axes>"
      ]
     },
     "metadata": {
      "needs_background": "light"
     },
     "output_type": "display_data"
    }
   ],
   "source": [
    "fig, ax = plt.subplots()\n",
    "ax.plot(run_hist.history[\"accuracy\"],'r',\n",
    "        marker='.', label=\"Training\")\n",
    "ax.plot(run_hist.history[\"val_accuracy\"],'g',\n",
    "        marker='.', label=\"Validation\")\n",
    "plt.xlabel('Epochs')\n",
    "plt.ylabel('Accuracy')\n",
    "ax.legend()"
   ]
  },
  {
   "cell_type": "code",
   "execution_count": 23,
   "id": "80baef8a-af28-48fe-a7da-74f339ef62e3",
   "metadata": {
    "slideshow": {
     "slide_type": "subslide"
    }
   },
   "outputs": [
    {
     "name": "stdout",
     "output_type": "stream",
     "text": [
      "Test score: 0.0594780333340168\n",
      "Test accuracy: 0.9825999736785889\n"
     ]
    }
   ],
   "source": [
    "#Evaluating the model on the test data    \n",
    "score, accuracy = model.evaluate(x_test, y_test, verbose=0)\n",
    "print('Test score:', score)\n",
    "print('Test accuracy:', accuracy)"
   ]
  },
  {
   "cell_type": "markdown",
   "id": "65c6071b-f320-4e6f-af1b-9d40a33884eb",
   "metadata": {
    "slideshow": {
     "slide_type": "slide"
    },
    "tags": []
   },
   "source": [
    "# Adding More Convolutional Layers"
   ]
  },
  {
   "cell_type": "code",
   "execution_count": 24,
   "id": "1ec1ba23-7926-4827-a672-8007cecba1b7",
   "metadata": {
    "slideshow": {
     "slide_type": "subslide"
    }
   },
   "outputs": [],
   "source": [
    "model = Sequential()\n",
    "model.add(Conv2D(nb_filters,\n",
    "                 (nb_conv, nb_conv),\n",
    "                 padding='valid',\n",
    "                 input_shape=shape_ord))\n",
    "model.add(Activation('relu'))\n",
    "model.add(Conv2D(nb_filters,\n",
    "                 (nb_conv, nb_conv)))\n",
    "model.add(Activation('relu'))\n",
    "model.add(MaxPooling2D(pool_size=(nb_pool,\n",
    "                                  nb_pool)))\n",
    "model.add(Dropout(0.25))\n",
    "    \n",
    "model.add(Flatten())\n",
    "model.add(Dense(128))\n",
    "model.add(Activation('relu'))\n",
    "model.add(Dropout(0.5))\n",
    "model.add(Dense(nb_classes))\n",
    "model.add(Activation('softmax'))"
   ]
  },
  {
   "cell_type": "code",
   "execution_count": 25,
   "id": "2690a550-5b52-4c1c-b0ef-93087227cd58",
   "metadata": {
    "collapsed": true,
    "jupyter": {
     "outputs_hidden": true
    },
    "slideshow": {
     "slide_type": "subslide"
    },
    "tags": []
   },
   "outputs": [
    {
     "name": "stdout",
     "output_type": "stream",
     "text": [
      "Epoch 1/100\n",
      "938/938 [==============================] - 10s 9ms/step - loss: 0.8245 - accuracy: 0.7316 - val_loss: 0.2523 - val_accuracy: 0.9271\n",
      "Epoch 2/100\n",
      "938/938 [==============================] - 9s 9ms/step - loss: 0.3910 - accuracy: 0.8810 - val_loss: 0.1953 - val_accuracy: 0.9434\n",
      "Epoch 3/100\n",
      "938/938 [==============================] - 9s 10ms/step - loss: 0.3256 - accuracy: 0.9007 - val_loss: 0.1672 - val_accuracy: 0.9498\n",
      "Epoch 4/100\n",
      "938/938 [==============================] - 9s 10ms/step - loss: 0.2889 - accuracy: 0.9123 - val_loss: 0.1454 - val_accuracy: 0.9566\n",
      "Epoch 5/100\n",
      "938/938 [==============================] - 9s 9ms/step - loss: 0.2580 - accuracy: 0.9208 - val_loss: 0.1271 - val_accuracy: 0.9615\n",
      "Epoch 6/100\n",
      "938/938 [==============================] - 9s 9ms/step - loss: 0.2347 - accuracy: 0.9304 - val_loss: 0.1201 - val_accuracy: 0.9648\n",
      "Epoch 7/100\n",
      "938/938 [==============================] - 9s 9ms/step - loss: 0.2155 - accuracy: 0.9348 - val_loss: 0.1065 - val_accuracy: 0.9659\n",
      "Epoch 8/100\n",
      "938/938 [==============================] - 9s 10ms/step - loss: 0.2014 - accuracy: 0.9402 - val_loss: 0.0960 - val_accuracy: 0.9705\n",
      "Epoch 9/100\n",
      "938/938 [==============================] - 9s 9ms/step - loss: 0.1808 - accuracy: 0.9453 - val_loss: 0.0879 - val_accuracy: 0.9738\n",
      "Epoch 10/100\n",
      "938/938 [==============================] - 9s 9ms/step - loss: 0.1648 - accuracy: 0.9506 - val_loss: 0.0830 - val_accuracy: 0.9741\n",
      "Epoch 11/100\n",
      "938/938 [==============================] - 10s 11ms/step - loss: 0.1546 - accuracy: 0.9539 - val_loss: 0.0734 - val_accuracy: 0.9769\n",
      "Epoch 12/100\n",
      "938/938 [==============================] - 10s 11ms/step - loss: 0.1427 - accuracy: 0.9574 - val_loss: 0.0688 - val_accuracy: 0.9785\n",
      "Epoch 13/100\n",
      "938/938 [==============================] - 9s 10ms/step - loss: 0.1349 - accuracy: 0.9603 - val_loss: 0.0650 - val_accuracy: 0.9801\n",
      "Epoch 14/100\n",
      "938/938 [==============================] - 9s 10ms/step - loss: 0.1270 - accuracy: 0.9625 - val_loss: 0.0605 - val_accuracy: 0.9804\n",
      "Epoch 15/100\n",
      "938/938 [==============================] - 9s 10ms/step - loss: 0.1196 - accuracy: 0.9646 - val_loss: 0.0581 - val_accuracy: 0.9816\n",
      "Epoch 16/100\n",
      "938/938 [==============================] - 9s 10ms/step - loss: 0.1137 - accuracy: 0.9652 - val_loss: 0.0574 - val_accuracy: 0.9822\n",
      "Epoch 17/100\n",
      "938/938 [==============================] - 9s 10ms/step - loss: 0.1085 - accuracy: 0.9677 - val_loss: 0.0525 - val_accuracy: 0.9838\n",
      "Epoch 18/100\n",
      "938/938 [==============================] - 10s 10ms/step - loss: 0.1051 - accuracy: 0.9697 - val_loss: 0.0497 - val_accuracy: 0.9839\n",
      "Epoch 19/100\n",
      "938/938 [==============================] - 9s 10ms/step - loss: 0.1007 - accuracy: 0.9699 - val_loss: 0.0489 - val_accuracy: 0.9841\n",
      "Epoch 20/100\n",
      "938/938 [==============================] - 9s 9ms/step - loss: 0.0952 - accuracy: 0.9707 - val_loss: 0.0471 - val_accuracy: 0.9845\n",
      "Epoch 21/100\n",
      "938/938 [==============================] - 9s 10ms/step - loss: 0.0937 - accuracy: 0.9715 - val_loss: 0.0455 - val_accuracy: 0.9845\n",
      "Epoch 22/100\n",
      "938/938 [==============================] - 9s 10ms/step - loss: 0.0902 - accuracy: 0.9727 - val_loss: 0.0442 - val_accuracy: 0.9858\n",
      "Epoch 23/100\n",
      "938/938 [==============================] - 9s 10ms/step - loss: 0.0858 - accuracy: 0.9739 - val_loss: 0.0422 - val_accuracy: 0.9865\n",
      "Epoch 24/100\n",
      "938/938 [==============================] - 10s 11ms/step - loss: 0.0818 - accuracy: 0.9747 - val_loss: 0.0405 - val_accuracy: 0.9864\n",
      "Epoch 25/100\n",
      "938/938 [==============================] - 9s 10ms/step - loss: 0.0819 - accuracy: 0.9753 - val_loss: 0.0412 - val_accuracy: 0.9861\n",
      "Epoch 26/100\n",
      "938/938 [==============================] - 9s 10ms/step - loss: 0.0770 - accuracy: 0.9767 - val_loss: 0.0412 - val_accuracy: 0.9869\n",
      "Epoch 27/100\n",
      "938/938 [==============================] - 9s 10ms/step - loss: 0.0757 - accuracy: 0.9769 - val_loss: 0.0390 - val_accuracy: 0.9865\n",
      "Epoch 28/100\n",
      "938/938 [==============================] - 9s 10ms/step - loss: 0.0751 - accuracy: 0.9773 - val_loss: 0.0382 - val_accuracy: 0.9876\n",
      "Epoch 29/100\n",
      "938/938 [==============================] - 9s 10ms/step - loss: 0.0740 - accuracy: 0.9774 - val_loss: 0.0367 - val_accuracy: 0.9882\n",
      "Epoch 30/100\n",
      "938/938 [==============================] - 9s 10ms/step - loss: 0.0717 - accuracy: 0.9777 - val_loss: 0.0375 - val_accuracy: 0.9876\n",
      "Epoch 31/100\n",
      "938/938 [==============================] - 10s 10ms/step - loss: 0.0680 - accuracy: 0.9790 - val_loss: 0.0358 - val_accuracy: 0.9888\n",
      "Epoch 32/100\n",
      "938/938 [==============================] - 9s 9ms/step - loss: 0.0682 - accuracy: 0.9789 - val_loss: 0.0365 - val_accuracy: 0.9877\n",
      "Epoch 33/100\n",
      "938/938 [==============================] - 9s 10ms/step - loss: 0.0663 - accuracy: 0.9803 - val_loss: 0.0355 - val_accuracy: 0.9878\n",
      "Epoch 34/100\n",
      "938/938 [==============================] - 10s 11ms/step - loss: 0.0654 - accuracy: 0.9798 - val_loss: 0.0348 - val_accuracy: 0.9879\n",
      "Epoch 35/100\n",
      "938/938 [==============================] - 9s 10ms/step - loss: 0.0637 - accuracy: 0.9807 - val_loss: 0.0346 - val_accuracy: 0.9887\n",
      "Epoch 36/100\n",
      "938/938 [==============================] - 9s 10ms/step - loss: 0.0627 - accuracy: 0.9804 - val_loss: 0.0334 - val_accuracy: 0.9886\n",
      "Epoch 37/100\n",
      "938/938 [==============================] - 10s 11ms/step - loss: 0.0608 - accuracy: 0.9813 - val_loss: 0.0329 - val_accuracy: 0.9888\n",
      "Epoch 38/100\n",
      "938/938 [==============================] - 10s 10ms/step - loss: 0.0586 - accuracy: 0.9813 - val_loss: 0.0330 - val_accuracy: 0.9891\n",
      "Epoch 39/100\n",
      "938/938 [==============================] - 9s 10ms/step - loss: 0.0571 - accuracy: 0.9822 - val_loss: 0.0320 - val_accuracy: 0.9893\n",
      "Epoch 40/100\n",
      "938/938 [==============================] - 9s 9ms/step - loss: 0.0572 - accuracy: 0.9820 - val_loss: 0.0316 - val_accuracy: 0.9894\n",
      "Epoch 41/100\n",
      "938/938 [==============================] - 9s 9ms/step - loss: 0.0546 - accuracy: 0.9829 - val_loss: 0.0329 - val_accuracy: 0.9891\n",
      "Epoch 42/100\n",
      "938/938 [==============================] - 9s 10ms/step - loss: 0.0559 - accuracy: 0.9824 - val_loss: 0.0332 - val_accuracy: 0.9893\n",
      "Epoch 43/100\n",
      "938/938 [==============================] - 9s 10ms/step - loss: 0.0536 - accuracy: 0.9834 - val_loss: 0.0318 - val_accuracy: 0.9887\n",
      "Epoch 44/100\n",
      "938/938 [==============================] - 11s 11ms/step - loss: 0.0534 - accuracy: 0.9839 - val_loss: 0.0313 - val_accuracy: 0.9893\n",
      "Epoch 45/100\n",
      "938/938 [==============================] - 10s 11ms/step - loss: 0.0515 - accuracy: 0.9835 - val_loss: 0.0302 - val_accuracy: 0.9897\n",
      "Epoch 46/100\n",
      "938/938 [==============================] - 11s 12ms/step - loss: 0.0519 - accuracy: 0.9844 - val_loss: 0.0305 - val_accuracy: 0.9894\n",
      "Epoch 47/100\n",
      "938/938 [==============================] - 11s 11ms/step - loss: 0.0505 - accuracy: 0.9837 - val_loss: 0.0306 - val_accuracy: 0.9896\n",
      "Epoch 48/100\n",
      "938/938 [==============================] - 9s 10ms/step - loss: 0.0496 - accuracy: 0.9847 - val_loss: 0.0313 - val_accuracy: 0.9895\n",
      "Epoch 49/100\n",
      "938/938 [==============================] - 9s 10ms/step - loss: 0.0471 - accuracy: 0.9849 - val_loss: 0.0309 - val_accuracy: 0.9897\n",
      "Epoch 50/100\n",
      "938/938 [==============================] - 9s 10ms/step - loss: 0.0486 - accuracy: 0.9846 - val_loss: 0.0293 - val_accuracy: 0.9901\n",
      "Epoch 51/100\n",
      "938/938 [==============================] - 9s 9ms/step - loss: 0.0455 - accuracy: 0.9858 - val_loss: 0.0299 - val_accuracy: 0.9893\n",
      "Epoch 52/100\n",
      "938/938 [==============================] - 9s 9ms/step - loss: 0.0460 - accuracy: 0.9856 - val_loss: 0.0298 - val_accuracy: 0.9899\n",
      "Epoch 53/100\n",
      "938/938 [==============================] - 9s 10ms/step - loss: 0.0453 - accuracy: 0.9855 - val_loss: 0.0303 - val_accuracy: 0.9895\n",
      "Epoch 54/100\n",
      "938/938 [==============================] - 9s 10ms/step - loss: 0.0449 - accuracy: 0.9857 - val_loss: 0.0302 - val_accuracy: 0.9907\n",
      "Epoch 55/100\n",
      "938/938 [==============================] - 9s 10ms/step - loss: 0.0445 - accuracy: 0.9862 - val_loss: 0.0299 - val_accuracy: 0.9897\n",
      "Epoch 56/100\n",
      "938/938 [==============================] - 10s 10ms/step - loss: 0.0438 - accuracy: 0.9863 - val_loss: 0.0313 - val_accuracy: 0.9900\n",
      "Epoch 57/100\n",
      "938/938 [==============================] - 9s 10ms/step - loss: 0.0419 - accuracy: 0.9863 - val_loss: 0.0300 - val_accuracy: 0.9889\n",
      "Epoch 58/100\n",
      "938/938 [==============================] - 9s 10ms/step - loss: 0.0433 - accuracy: 0.9865 - val_loss: 0.0297 - val_accuracy: 0.9900\n",
      "Epoch 59/100\n",
      "938/938 [==============================] - 10s 10ms/step - loss: 0.0415 - accuracy: 0.9865 - val_loss: 0.0295 - val_accuracy: 0.9901\n",
      "Epoch 60/100\n",
      "938/938 [==============================] - 9s 10ms/step - loss: 0.0417 - accuracy: 0.9863 - val_loss: 0.0296 - val_accuracy: 0.9901\n",
      "Epoch 61/100\n",
      "938/938 [==============================] - 9s 10ms/step - loss: 0.0418 - accuracy: 0.9863 - val_loss: 0.0298 - val_accuracy: 0.9898\n",
      "Epoch 62/100\n",
      "938/938 [==============================] - 9s 9ms/step - loss: 0.0389 - accuracy: 0.9875 - val_loss: 0.0299 - val_accuracy: 0.9905\n",
      "Epoch 63/100\n",
      "938/938 [==============================] - 10s 10ms/step - loss: 0.0367 - accuracy: 0.9880 - val_loss: 0.0300 - val_accuracy: 0.9901\n",
      "Epoch 64/100\n",
      "938/938 [==============================] - 10s 10ms/step - loss: 0.0392 - accuracy: 0.9877 - val_loss: 0.0298 - val_accuracy: 0.9904\n",
      "Epoch 65/100\n",
      "938/938 [==============================] - 9s 9ms/step - loss: 0.0371 - accuracy: 0.9879 - val_loss: 0.0307 - val_accuracy: 0.9902\n",
      "Epoch 66/100\n",
      "938/938 [==============================] - 9s 9ms/step - loss: 0.0375 - accuracy: 0.9881 - val_loss: 0.0304 - val_accuracy: 0.9905\n",
      "Epoch 67/100\n",
      "938/938 [==============================] - 9s 10ms/step - loss: 0.0375 - accuracy: 0.9878 - val_loss: 0.0295 - val_accuracy: 0.9902\n",
      "Epoch 68/100\n",
      "938/938 [==============================] - 9s 10ms/step - loss: 0.0377 - accuracy: 0.9878 - val_loss: 0.0295 - val_accuracy: 0.9907\n",
      "Epoch 69/100\n",
      "938/938 [==============================] - 9s 9ms/step - loss: 0.0361 - accuracy: 0.9884 - val_loss: 0.0302 - val_accuracy: 0.9905\n",
      "Epoch 70/100\n",
      "938/938 [==============================] - 9s 9ms/step - loss: 0.0362 - accuracy: 0.9884 - val_loss: 0.0295 - val_accuracy: 0.9908\n",
      "Epoch 71/100\n",
      "938/938 [==============================] - 9s 9ms/step - loss: 0.0335 - accuracy: 0.9890 - val_loss: 0.0287 - val_accuracy: 0.9908\n",
      "Epoch 72/100\n",
      "938/938 [==============================] - 9s 10ms/step - loss: 0.0352 - accuracy: 0.9888 - val_loss: 0.0294 - val_accuracy: 0.9904\n",
      "Epoch 73/100\n",
      "938/938 [==============================] - 9s 10ms/step - loss: 0.0355 - accuracy: 0.9884 - val_loss: 0.0289 - val_accuracy: 0.9912\n",
      "Epoch 74/100\n",
      "938/938 [==============================] - 9s 10ms/step - loss: 0.0344 - accuracy: 0.9889 - val_loss: 0.0297 - val_accuracy: 0.9904\n",
      "Epoch 75/100\n",
      "938/938 [==============================] - 9s 10ms/step - loss: 0.0328 - accuracy: 0.9893 - val_loss: 0.0291 - val_accuracy: 0.9907\n",
      "Epoch 76/100\n",
      "938/938 [==============================] - 10s 11ms/step - loss: 0.0334 - accuracy: 0.9891 - val_loss: 0.0288 - val_accuracy: 0.9908\n",
      "Epoch 77/100\n",
      "938/938 [==============================] - 10s 10ms/step - loss: 0.0324 - accuracy: 0.9893 - val_loss: 0.0299 - val_accuracy: 0.9905\n",
      "Epoch 78/100\n",
      "938/938 [==============================] - 9s 10ms/step - loss: 0.0314 - accuracy: 0.9900 - val_loss: 0.0301 - val_accuracy: 0.9906\n",
      "Epoch 79/100\n",
      "938/938 [==============================] - 9s 10ms/step - loss: 0.0332 - accuracy: 0.9893 - val_loss: 0.0288 - val_accuracy: 0.9906\n",
      "Epoch 80/100\n",
      "938/938 [==============================] - 9s 10ms/step - loss: 0.0313 - accuracy: 0.9899 - val_loss: 0.0293 - val_accuracy: 0.9912\n",
      "Epoch 81/100\n",
      "938/938 [==============================] - 10s 10ms/step - loss: 0.0310 - accuracy: 0.9898 - val_loss: 0.0297 - val_accuracy: 0.9906\n",
      "Epoch 82/100\n",
      "938/938 [==============================] - 9s 10ms/step - loss: 0.0296 - accuracy: 0.9907 - val_loss: 0.0283 - val_accuracy: 0.9909\n",
      "Epoch 83/100\n",
      "938/938 [==============================] - 9s 10ms/step - loss: 0.0320 - accuracy: 0.9896 - val_loss: 0.0280 - val_accuracy: 0.9910\n",
      "Epoch 84/100\n",
      "938/938 [==============================] - 9s 10ms/step - loss: 0.0304 - accuracy: 0.9903 - val_loss: 0.0291 - val_accuracy: 0.9910\n",
      "Epoch 85/100\n",
      "938/938 [==============================] - 9s 10ms/step - loss: 0.0308 - accuracy: 0.9905 - val_loss: 0.0289 - val_accuracy: 0.9908\n",
      "Epoch 86/100\n",
      "938/938 [==============================] - 9s 9ms/step - loss: 0.0296 - accuracy: 0.9905 - val_loss: 0.0283 - val_accuracy: 0.9906\n",
      "Epoch 87/100\n",
      "938/938 [==============================] - 9s 10ms/step - loss: 0.0297 - accuracy: 0.9897 - val_loss: 0.0282 - val_accuracy: 0.9908\n",
      "Epoch 88/100\n",
      "938/938 [==============================] - 9s 10ms/step - loss: 0.0295 - accuracy: 0.9897 - val_loss: 0.0273 - val_accuracy: 0.9917\n",
      "Epoch 89/100\n",
      "938/938 [==============================] - 10s 11ms/step - loss: 0.0299 - accuracy: 0.9903 - val_loss: 0.0288 - val_accuracy: 0.9912\n",
      "Epoch 90/100\n",
      "938/938 [==============================] - 9s 10ms/step - loss: 0.0294 - accuracy: 0.9904 - val_loss: 0.0288 - val_accuracy: 0.9903\n",
      "Epoch 91/100\n",
      "938/938 [==============================] - 10s 10ms/step - loss: 0.0292 - accuracy: 0.9905 - val_loss: 0.0296 - val_accuracy: 0.9911\n",
      "Epoch 92/100\n",
      "938/938 [==============================] - 9s 9ms/step - loss: 0.0283 - accuracy: 0.9909 - val_loss: 0.0287 - val_accuracy: 0.9915\n",
      "Epoch 93/100\n",
      "938/938 [==============================] - 9s 10ms/step - loss: 0.0274 - accuracy: 0.9904 - val_loss: 0.0280 - val_accuracy: 0.9913\n",
      "Epoch 94/100\n",
      "938/938 [==============================] - 9s 9ms/step - loss: 0.0271 - accuracy: 0.9909 - val_loss: 0.0281 - val_accuracy: 0.9916\n",
      "Epoch 95/100\n",
      "938/938 [==============================] - 9s 9ms/step - loss: 0.0272 - accuracy: 0.9910 - val_loss: 0.0281 - val_accuracy: 0.9917\n",
      "Epoch 96/100\n",
      "938/938 [==============================] - 9s 10ms/step - loss: 0.0272 - accuracy: 0.9912 - val_loss: 0.0296 - val_accuracy: 0.9912\n",
      "Epoch 97/100\n",
      "938/938 [==============================] - 10s 10ms/step - loss: 0.0256 - accuracy: 0.9916 - val_loss: 0.0287 - val_accuracy: 0.9913\n",
      "Epoch 98/100\n",
      "938/938 [==============================] - 9s 10ms/step - loss: 0.0267 - accuracy: 0.9908 - val_loss: 0.0291 - val_accuracy: 0.9907\n",
      "Epoch 99/100\n",
      "938/938 [==============================] - 9s 9ms/step - loss: 0.0278 - accuracy: 0.9910 - val_loss: 0.0288 - val_accuracy: 0.9910\n",
      "Epoch 100/100\n",
      "938/938 [==============================] - 10s 11ms/step - loss: 0.0249 - accuracy: 0.9924 - val_loss: 0.0286 - val_accuracy: 0.9912\n"
     ]
    }
   ],
   "source": [
    "model.compile(loss='categorical_crossentropy',\n",
    "              optimizer='sgd',\n",
    "              metrics=['accuracy'])\n",
    "\n",
    "run_hist = model.fit(x_train, y_train,\n",
    "                     batch_size=batch_size, \n",
    "                     epochs=nb_epoch,verbose=1,\n",
    "                     validation_data=(x_test, y_test))"
   ]
  },
  {
   "cell_type": "markdown",
   "id": "6408f997-cb19-4d22-b997-e3812bdecac2",
   "metadata": {
    "slideshow": {
     "slide_type": "subslide"
    },
    "tags": []
   },
   "source": [
    "#### Evaluation"
   ]
  },
  {
   "cell_type": "code",
   "execution_count": 26,
   "id": "55d240bb-ec7a-4cc3-812b-9b8d9e2b9a5b",
   "metadata": {},
   "outputs": [
    {
     "data": {
      "text/plain": [
       "<matplotlib.legend.Legend at 0x26fce23ae20>"
      ]
     },
     "execution_count": 26,
     "metadata": {},
     "output_type": "execute_result"
    },
    {
     "data": {
      "image/png": "[encoded data removed]",
      "text/plain": [
       "<Figure size 432x288 with 1 Axes>"
      ]
     },
     "metadata": {
      "needs_background": "light"
     },
     "output_type": "display_data"
    }
   ],
   "source": [
    "fig, ax = plt.subplots()\n",
    "ax.plot(run_hist.history[\"accuracy\"],'r',\n",
    "        marker='.', label=\"Training\")\n",
    "ax.plot(run_hist.history[\"val_accuracy\"],'g',\n",
    "        marker='.', label=\"Validation\")\n",
    "plt.xlabel('Epochs')\n",
    "plt.ylabel('Accuracy')\n",
    "ax.legend()"
   ]
  },
  {
   "cell_type": "code",
   "execution_count": 27,
   "id": "9941f2e5-cfc5-4580-9e52-b4c80d3d0562",
   "metadata": {},
   "outputs": [
    {
     "name": "stdout",
     "output_type": "stream",
     "text": [
      "Test score: 0.028617434203624725\n",
      "Test accuracy: 0.9911999702453613\n"
     ]
    }
   ],
   "source": [
    "#Evaluating the model on the test data    \n",
    "score, accuracy = model.evaluate(x_test, y_test, verbose=0)\n",
    "print('Test score:', score)\n",
    "print('Test accuracy:', accuracy)"
   ]
  },
  {
   "cell_type": "markdown",
   "id": "930ba070-a969-4b26-b86d-2f7b3e15b323",
   "metadata": {
    "slideshow": {
     "slide_type": "subslide"
    }
   },
   "source": [
    "#### Let's plot our model's classifications!"
   ]
  },
  {
   "cell_type": "code",
   "execution_count": 28,
   "id": "dc9b8107-5301-4a40-9a19-a800219af602",
   "metadata": {
    "slideshow": {
     "slide_type": "subslide"
    }
   },
   "outputs": [
    {
     "name": "stdout",
     "output_type": "stream",
     "text": [
      "1/1 [==============================] - 0s 218ms/step\n"
     ]
    },
    {
     "data": {
      "image/png": "[encoded data removed]",
      "text/plain": [
       "<Figure size 1152x576 with 15 Axes>"
      ]
     },
     "metadata": {
      "needs_background": "light"
     },
     "output_type": "display_data"
    }
   ],
   "source": [
    "slice = 15\n",
    "predicted = model.predict(x_test[:slice]).argmax(-1)\n",
    "\n",
    "plt.figure(figsize=(16,8))\n",
    "for i in range(slice):\n",
    "    plt.subplot(1, slice, i+1)\n",
    "    plt.imshow(x_test[i], interpolation='nearest')\n",
    "    plt.text(0, 0, predicted[i], color='black', \n",
    "             bbox=dict(facecolor='white', alpha=1))\n",
    "    plt.axis('off')"
   ]
  },
  {
   "cell_type": "markdown",
   "id": "7985cead-ca0e-48ac-961f-6f8145e621a8",
   "metadata": {
    "slideshow": {
     "slide_type": "subslide"
    },
    "tags": []
   },
   "source": [
    "# Summary"
   ]
  },
  {
   "cell_type": "code",
   "execution_count": 29,
   "id": "30fe5d01-a3bc-4c5c-973f-621e5704a4b5",
   "metadata": {},
   "outputs": [
    {
     "name": "stdout",
     "output_type": "stream",
     "text": [
      "Model: \"sequential_3\"\n",
      "_________________________________________________________________\n",
      " Layer (type)                Output Shape              Param #   \n",
      "=================================================================\n",
      " conv2d_3 (Conv2D)           (None, 26, 26, 32)        320       \n",
      "                                                                 \n",
      " activation_8 (Activation)   (None, 26, 26, 32)        0         \n",
      "                                                                 \n",
      " conv2d_4 (Conv2D)           (None, 24, 24, 32)        9248      \n",
      "                                                                 \n",
      " activation_9 (Activation)   (None, 24, 24, 32)        0         \n",
      "                                                                 \n",
      " max_pooling2d (MaxPooling2D  (None, 12, 12, 32)       0         \n",
      " )                                                               \n",
      "                                                                 \n",
      " dropout_1 (Dropout)         (None, 12, 12, 32)        0         \n",
      "                                                                 \n",
      " flatten_3 (Flatten)         (None, 4608)              0         \n",
      "                                                                 \n",
      " dense_5 (Dense)             (None, 128)               589952    \n",
      "                                                                 \n",
      " activation_10 (Activation)  (None, 128)               0         \n",
      "                                                                 \n",
      " dropout_2 (Dropout)         (None, 128)               0         \n",
      "                                                                 \n",
      " dense_6 (Dense)             (None, 10)                1290      \n",
      "                                                                 \n",
      " activation_11 (Activation)  (None, 10)                0         \n",
      "                                                                 \n",
      "=================================================================\n",
      "Total params: 600,810\n",
      "Trainable params: 600,810\n",
      "Non-trainable params: 0\n",
      "_________________________________________________________________\n"
     ]
    }
   ],
   "source": [
    "model.summary()"
   ]
  },
  {
   "cell_type": "code",
   "execution_count": 30,
   "id": "2e18f94c-fe07-4c75-aa57-44fafa85b0a9",
   "metadata": {},
   "outputs": [
    {
     "name": "stdout",
     "output_type": "stream",
     "text": [
      "Layer 0 \t conv2d_3 \t\t (3, 3, 1, 32) \t (32,)\n",
      "Layer 2 \t conv2d_4 \t\t (3, 3, 32, 32) \t (32,)\n",
      "Layer 7 \t dense_5 \t\t (4608, 128) \t (128,)\n",
      "Layer 10 \t dense_6 \t\t (128, 10) \t (10,)\n"
     ]
    }
   ],
   "source": [
    "for i, layer in enumerate(model.layers):\n",
    "    if len(layer.get_weights()) > 0:\n",
    "        W, b = layer.get_weights()\n",
    "        print(\"Layer\", i, \"\\t\",\n",
    "              layer.name, \"\\t\\t\", W.shape,\n",
    "              \"\\t\", b.shape)"
   ]
  }
 ],
 "metadata": {
  "kernelspec": {
   "display_name": "Python 3 (ipykernel)",
   "language": "python",
   "name": "python3"
  },
  "language_info": {
   "codemirror_mode": {
    "name": "ipython",
    "version": 3
   },
   "file_extension": ".py",
   "mimetype": "text/x-python",
   "name": "python",
   "nbconvert_exporter": "python",
   "pygments_lexer": "ipython3",
   "version": "3.9.12"
  }
 },
 "nbformat": 4,
 "nbformat_minor": 5
}
